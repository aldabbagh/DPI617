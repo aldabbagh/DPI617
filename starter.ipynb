{
 "cells": [
  {
   "attachments": {},
   "cell_type": "markdown",
   "metadata": {},
   "source": [
    "# Exploring the Relationship Between Police Stops and Crime in San Diego: A Microgeographic Analysis of Demographic Factors and Policing Strategies"
   ]
  },
  {
   "attachments": {},
   "cell_type": "markdown",
   "metadata": {},
   "source": [
    "In recent years, the effectiveness and implications of police stops have been at the center of public debate and academic inquiry. This study aims to contribute to the ongoing discourse by examining the relationship between police stops and crime in San Diego at a microgeographic level. By focusing on regional variations, demographic factors, and community impact, we seek to provide valuable insights into the efficiency and consequences of police stops within the city's diverse police beats. Through a comprehensive analysis of crime patterns and outcomes, our research aims to inform evidence-based recommendations for refining and improving policing strategies in San Diego and other similar urban areas, ultimately fostering more equitable and effective law enforcement practices.\n",
    "\n",
    "In examining the relationship between police stops and crime, it is important to consider the existing literature on this subject. Miller et al. (2000) found that while stops and searches play some role in fighting crime and lead to about one-tenth of arrests nationally, they have only a small impact on the detection and prevention of recorded or reported crime. Additionally, searches tend to have a negative impact on public confidence in the police, often due to perceived impoliteness and inadequate explanations for stopping individuals. The authors recommend focusing on efficient and targeted use of searches based on intelligence and high levels of suspicion, while emphasizing more serious crimes and prolific offenders.\n",
    "\n",
    "MacDonald et al. (2016) investigated the effects of the New York Police Department's (NYPD) Operation Impact, which deployed extra police officers to high crime areas. The authors found that impact zones were associated with significant reductions in reported crimes and increases in reported arrests. However, they also noted that the majority of investigative stops did not play an important role in crime reduction, suggesting that more focused investigative stops could be more effective.\n",
    "\n",
    "Weisburd et al. (2015) explored the impact of stop, question, and frisks (SQFs) on crime in New York City at a microgeographic level. They found that SQFs produce a significant yet modest deterrent effect on crime, but questioned whether other policing strategies might yield similar or stronger crime-control outcomes. They also noted that the level of SQFs needed to achieve meaningful crime reductions can be costly and potentially harmful to police legitimacy.\n",
    "\n",
    "Petersen et al. (2023) conducted a systematic review and meta-analysis on the effects of police-initiated pedestrian stops on crime and individual-level outcomes. Their findings indicated that pedestrian stop interventions were associated with a statistically significant reduction in crime for treatment areas relative to control areas. However, they also found that such interventions led to a broad range of negative individual-level effects, such as increased odds of mental and physical health issues, more negative attitudes toward the police, and higher levels of self-reported crime and delinquency. The authors concluded that, although pedestrian stop interventions have favorable effects on place-based crime and displacement outcomes, the negative individual-level effects make it difficult to recommend their use over alternative policing interventions.\n",
    "\n",
    "By examining the relationship between stops and crime within San Diego's police beats, our study will add valuable insights on regional variations in the effectiveness of police stops. This localized focus allows us to compare different areas with varying levels of crime and stops, providing insights that can be used to improve policing strategies. Furthermore, our research will assess the efficiency of police stops in San Diego and explore how well they align with crime levels across different police beats.\n",
    "\n",
    "Focusing on demographic factors, our study will investigate the role of variables such as race and gender in the relationship between police stops and crime in San Diego. By examining how these factors may influence the patterns and outcomes of stops, we aim to contribute to a deeper understanding of the impact of police practices on different communities and support the development of more equitable policing strategies.\n",
    "\n",
    "In summary, our study on the relationship between police stops and crime in San Diego will complement and extend the existing literature, offering valuable insights that contribute to a deeper understanding of this relationship and providing evidence-based recommendations for refining and improving policing strategies in San Diego and other similar cities."
   ]
  },
  {
   "attachments": {},
   "cell_type": "markdown",
   "metadata": {},
   "source": [
    "### Data Prep"
   ]
  },
  {
   "cell_type": "code",
   "execution_count": 1,
   "metadata": {},
   "outputs": [],
   "source": [
    "import pandas as pd\n",
    "import geopandas as gpd\n",
    "import matplotlib.pyplot as plt"
   ]
  },
  {
   "cell_type": "code",
   "execution_count": 2,
   "metadata": {},
   "outputs": [
    {
     "name": "stderr",
     "output_type": "stream",
     "text": [
      "/var/folders/71/wmk9vs213tlg98b354gxvj4m0000gn/T/ipykernel_38642/34588365.py:23: DtypeWarning: Columns (15,19) have mixed types. Specify dtype option on import or set low_memory=False.\n",
      "  stops_2019 = pd.read_csv('master-ripa-2019.csv')\n",
      "/var/folders/71/wmk9vs213tlg98b354gxvj4m0000gn/T/ipykernel_38642/34588365.py:24: DtypeWarning: Columns (15,19) have mixed types. Specify dtype option on import or set low_memory=False.\n",
      "  stops_2020 = pd.read_csv('master-ripa-2020.csv')\n",
      "/var/folders/71/wmk9vs213tlg98b354gxvj4m0000gn/T/ipykernel_38642/34588365.py:25: DtypeWarning: Columns (15,19) have mixed types. Specify dtype option on import or set low_memory=False.\n",
      "  stops_2021 = pd.read_csv('master-ripa-2021.csv')\n"
     ]
    }
   ],
   "source": [
    "# Read the crime data\n",
    "\"\"\"\n",
    "Crime Data has the following columns:\n",
    "    ['activityNumber', 'activityType', 'activityDate', 'Year',\n",
    "       'violationSection', 'violationType', 'chargeDescription', 'codeUcr',\n",
    "       'BlockNumber', 'streetDirection', 'streetName', 'streetType', 'city',\n",
    "       'state', 'zipCode', 'beat']\n",
    "\"\"\"\n",
    "crime_data = pd.read_excel('PRA 21-4922_2019-2021_Crimes__UCR Revised.xlsx')\n",
    "\n",
    "# read the stop data\n",
    "\"\"\"\n",
    "Stop Data has the following columns:\n",
    "    ['Unnamed: 0', 'stop_id', 'pid', 'id', 'ori', 'agency', 'exp_years',\n",
    "       'date', 'time', 'dur', 'is_serv', 'assign_key', 'assign_words',\n",
    "       'inters', 'block', 'ldmk', 'street', 'hw_exit', 'is_school',\n",
    "       'school_name', 'city', 'beat', 'beat_name', 'is_student', 'lim_eng',\n",
    "       'age', 'gender_words', 'is_gendnc', 'gender_code', 'gendnc_code',\n",
    "       'lgbt', 'race', 'disability', 'reason_words', 'reasonid', 'reason_text',\n",
    "       'reason_detail', 'reason_exp', 'search_basis', 'search_basis_exp',\n",
    "       'seiz_basis', 'prop_type', 'cont', 'actions', 'act_consent']\n",
    "\"\"\"\n",
    "stops_2019 = pd.read_csv('master-ripa-2019.csv')\n",
    "stops_2020 = pd.read_csv('master-ripa-2020.csv')\n",
    "stops_2021 = pd.read_csv('master-ripa-2021.csv')\n",
    "\n",
    "# read the beat demographics data\n",
    "\"\"\"\n",
    "Beat Demographics Data has the following columns:\n",
    "    ['beat', 'total', 'white', 'black', 'aian', 'asian', 'nhopi', 'hisp']\n",
    "\"\"\"\n",
    "beat_demographics = pd.read_csv('beat_demographics_2019_acs.csv')"
   ]
  },
  {
   "cell_type": "code",
   "execution_count": 3,
   "metadata": {},
   "outputs": [],
   "source": [
    "# Combine stops data from 2019, 2020, and 2021\n",
    "stops_data = pd.concat([stops_2019, stops_2020, stops_2021])"
   ]
  },
  {
   "attachments": {},
   "cell_type": "markdown",
   "metadata": {},
   "source": [
    "Fix Race Labels in the stop data"
   ]
  },
  {
   "cell_type": "code",
   "execution_count": 4,
   "metadata": {},
   "outputs": [
    {
     "name": "stdout",
     "output_type": "stream",
     "text": [
      "146\n"
     ]
    }
   ],
   "source": [
    "# print number of unique race values\n",
    "print(len(stops_data[\"race\"].unique()))"
   ]
  },
  {
   "cell_type": "code",
   "execution_count": 5,
   "metadata": {},
   "outputs": [],
   "source": [
    "# convert race to string typ\n",
    "stops_data[\"race\"] = stops_data[\"race\"].astype(str)"
   ]
  },
  {
   "cell_type": "code",
   "execution_count": 6,
   "metadata": {},
   "outputs": [
    {
     "data": {
      "text/plain": [
       "146"
      ]
     },
     "execution_count": 6,
     "metadata": {},
     "output_type": "execute_result"
    }
   ],
   "source": [
    "len(stops_data[\"race\"].unique())"
   ]
  },
  {
   "cell_type": "code",
   "execution_count": 7,
   "metadata": {},
   "outputs": [
    {
     "data": {
      "text/plain": [
       "0          Hispanic/Latino/a\n",
       "1                      White\n",
       "2    Hispanic/Latino/a|White\n",
       "3          Hispanic/Latino/a\n",
       "4     Black/African American\n",
       "Name: race, dtype: object"
      ]
     },
     "execution_count": 7,
     "metadata": {},
     "output_type": "execute_result"
    }
   ],
   "source": [
    "# print first 5 instances of race\n",
    "stops_data[\"race\"].head()"
   ]
  },
  {
   "cell_type": "code",
   "execution_count": 8,
   "metadata": {},
   "outputs": [
    {
     "data": {
      "text/plain": [
       "1"
      ]
     },
     "execution_count": 8,
     "metadata": {},
     "output_type": "execute_result"
    }
   ],
   "source": [
    "# check if the first 5 have \"|\" in them\n",
    "stops_data[\"race\"][0:5].str.contains('\\\\|', regex=True).sum()"
   ]
  },
  {
   "cell_type": "code",
   "execution_count": 9,
   "metadata": {},
   "outputs": [
    {
     "name": "stdout",
     "output_type": "stream",
     "text": [
      "Multiracial count: 3767 out of 407684 (0.92%)\n"
     ]
    }
   ],
   "source": [
    "multiracial_count = stops_data['race'].str.contains('\\\\|', regex=True).sum()\n",
    "total_count = len(stops_data)\n",
    "print(f\"Multiracial count: {multiracial_count} out of {total_count} ({100 * multiracial_count / total_count:.2f}%)\")"
   ]
  },
  {
   "cell_type": "code",
   "execution_count": 10,
   "metadata": {},
   "outputs": [
    {
     "data": {
      "text/plain": [
       "White                            168446\n",
       "Hispanic/Latino/a                119515\n",
       "Black/African American            81387\n",
       "Asian                             19647\n",
       "Middle Eastern or South Asian     11001\n",
       "Pacific Islander                   3112\n",
       "Native American                     809\n",
       "Name: race, dtype: int64"
      ]
     },
     "execution_count": 10,
     "metadata": {},
     "output_type": "execute_result"
    }
   ],
   "source": [
    "# count the unique values in the race column that do not contain '\\\\|'\n",
    "stops_data[\"race\"][~stops_data[\"race\"].str.contains('\\\\|', regex=True)].value_counts()"
   ]
  },
  {
   "cell_type": "code",
   "execution_count": 11,
   "metadata": {},
   "outputs": [],
   "source": [
    "def simplify_race(race):\n",
    "    if 'White' in race:\n",
    "        return 'white'\n",
    "    elif 'Black/African American' in race:\n",
    "        return 'black'\n",
    "    elif 'Asian' in race:\n",
    "        return 'asian'\n",
    "    elif 'Hispanic/Latino/a' in race:\n",
    "        return 'hisp'\n",
    "    elif 'Native American' in race:\n",
    "        # https://www.census.gov/programs-surveys/acs/data/race-aian.html\n",
    "        return 'aian'\n",
    "    elif 'Pacific Islander' in race:\n",
    "        return 'nhopi'\n",
    "    elif 'Middle Eastern or South Asian' in race:\n",
    "        return 'other'\n",
    "    else:\n",
    "        return 'other'"
   ]
  },
  {
   "cell_type": "code",
   "execution_count": 12,
   "metadata": {},
   "outputs": [],
   "source": [
    "# apply the simplify_race function to the race column\n",
    "stops_data[\"race\"] = stops_data[\"race\"].apply(simplify_race)"
   ]
  },
  {
   "attachments": {},
   "cell_type": "markdown",
   "metadata": {},
   "source": [
    "Add other race to demographic data"
   ]
  },
  {
   "cell_type": "code",
   "execution_count": 13,
   "metadata": {},
   "outputs": [],
   "source": [
    "beat_demographics['other'] = beat_demographics['total'] - (\n",
    "    beat_demographics['white'] + \n",
    "    beat_demographics['black'] + \n",
    "    beat_demographics['aian'] + \n",
    "    beat_demographics['asian'] + \n",
    "    beat_demographics['nhopi'] + \n",
    "    beat_demographics['hisp']\n",
    ")\n"
   ]
  },
  {
   "cell_type": "code",
   "execution_count": 14,
   "metadata": {},
   "outputs": [],
   "source": [
    "# Group crime and stops data by beat\n",
    "crime_by_beat = crime_data.groupby('beat').size().reset_index(name='num_crimes')\n",
    "stops_by_beat = stops_data.groupby(['beat', 'race']).size().reset_index(name='num_stops')\n",
    "\n",
    "# Merge crime and stops data by beat\n",
    "crime_stops_by_beat = pd.merge(crime_by_beat, stops_by_beat, on='beat')\n",
    "\n",
    "# Merge crime_stops_by_beat with beat_demographics\n",
    "crime_stops_demographics_by_beat = pd.merge(crime_stops_by_beat, beat_demographics, on='beat')\n",
    "\n",
    "# Calculate the ratio of stops to crimes in each beat\n",
    "crime_stops_demographics_by_beat['stops_to_crimes_ratio'] = crime_stops_demographics_by_beat['num_stops'] / crime_stops_demographics_by_beat['num_crimes']\n",
    "\n",
    "# Calculate the proportion of stops for each racial group in each beat\n",
    "racial_groups = ['white', 'black', 'aian', 'asian', 'nhopi', 'hisp', 'other']\n",
    "for group in racial_groups:\n",
    "    crime_stops_demographics_by_beat[f'{group}_stops_proportion'] = crime_stops_demographics_by_beat.loc[crime_stops_demographics_by_beat['race'] == group, 'num_stops'] / crime_stops_demographics_by_beat[group]"
   ]
  },
  {
   "cell_type": "code",
   "execution_count": 15,
   "metadata": {},
   "outputs": [
    {
     "name": "stdout",
     "output_type": "stream",
     "text": [
      "      beat  num_crimes   race  num_stops  total  white  black  aian  asian  \\\n",
      "155  316.0          36  white        245   1163    691     57     3    102   \n",
      "516  714.0         231   hisp       1098    194      4      5     0      6   \n",
      "500  711.0          33   hisp        125   8205    482    243     0    397   \n",
      "432  614.0        2277  white       7985  10937   8657    260    14    314   \n",
      "92   235.0          32  white        100   2654   1591     35     0    324   \n",
      "..     ...         ...    ...        ...    ...    ...    ...   ...    ...   \n",
      "70   232.0         845   aian          1  11531   5652    204     8   4089   \n",
      "53   124.0        3401   aian          4  30257  22649    552     8   2980   \n",
      "104  243.0         931   aian          1   6173   2021    275    45   2134   \n",
      "543  725.0        1077   aian          1   4999    881    541    16    954   \n",
      "23   115.0        4017   aian          2  49954  24314    871   220  16481   \n",
      "\n",
      "     nhopi  hisp  other  stops_to_crimes_ratio  white_stops_proportion  \\\n",
      "155      0   271     39               6.805556                0.354559   \n",
      "516      0   179      0               4.753247                     NaN   \n",
      "500      0  6965    118               3.787879                     NaN   \n",
      "432      3  1380    309               3.506807                0.922375   \n",
      "92       0   612     92               3.125000                0.062854   \n",
      "..     ...   ...    ...                    ...                     ...   \n",
      "70      13  1260    305               0.001183                     NaN   \n",
      "53      27  2920   1121               0.001176                     NaN   \n",
      "104     33  1249    416               0.001074                     NaN   \n",
      "543     17  2519     71               0.000929                     NaN   \n",
      "23      27  5845   2196               0.000498                     NaN   \n",
      "\n",
      "     black_stops_proportion  aian_stops_proportion  asian_stops_proportion  \\\n",
      "155                     NaN                    NaN                     NaN   \n",
      "516                     NaN                    NaN                     NaN   \n",
      "500                     NaN                    NaN                     NaN   \n",
      "432                     NaN                    NaN                     NaN   \n",
      "92                      NaN                    NaN                     NaN   \n",
      "..                      ...                    ...                     ...   \n",
      "70                      NaN               0.125000                     NaN   \n",
      "53                      NaN               0.500000                     NaN   \n",
      "104                     NaN               0.022222                     NaN   \n",
      "543                     NaN               0.062500                     NaN   \n",
      "23                      NaN               0.009091                     NaN   \n",
      "\n",
      "     nhopi_stops_proportion  hisp_stops_proportion  other_stops_proportion  \n",
      "155                     NaN                    NaN                     NaN  \n",
      "516                     NaN               6.134078                     NaN  \n",
      "500                     NaN               0.017947                     NaN  \n",
      "432                     NaN                    NaN                     NaN  \n",
      "92                      NaN                    NaN                     NaN  \n",
      "..                      ...                    ...                     ...  \n",
      "70                      NaN                    NaN                     NaN  \n",
      "53                      NaN                    NaN                     NaN  \n",
      "104                     NaN                    NaN                     NaN  \n",
      "543                     NaN                    NaN                     NaN  \n",
      "23                      NaN                    NaN                     NaN  \n",
      "\n",
      "[721 rows x 20 columns]\n"
     ]
    }
   ],
   "source": [
    "# Display the results\n",
    "print(crime_stops_demographics_by_beat.sort_values(by='stops_to_crimes_ratio', ascending=False))"
   ]
  },
  {
   "cell_type": "code",
   "execution_count": 16,
   "metadata": {},
   "outputs": [
    {
     "data": {
      "text/html": [
       "<div>\n",
       "<style scoped>\n",
       "    .dataframe tbody tr th:only-of-type {\n",
       "        vertical-align: middle;\n",
       "    }\n",
       "\n",
       "    .dataframe tbody tr th {\n",
       "        vertical-align: top;\n",
       "    }\n",
       "\n",
       "    .dataframe thead th {\n",
       "        text-align: right;\n",
       "    }\n",
       "</style>\n",
       "<table border=\"1\" class=\"dataframe\">\n",
       "  <thead>\n",
       "    <tr style=\"text-align: right;\">\n",
       "      <th></th>\n",
       "      <th>beat</th>\n",
       "      <th>num_crimes</th>\n",
       "      <th>race</th>\n",
       "      <th>num_stops</th>\n",
       "      <th>total</th>\n",
       "      <th>white</th>\n",
       "      <th>black</th>\n",
       "      <th>aian</th>\n",
       "      <th>asian</th>\n",
       "      <th>nhopi</th>\n",
       "      <th>hisp</th>\n",
       "      <th>other</th>\n",
       "      <th>stops_to_crimes_ratio</th>\n",
       "      <th>white_stops_proportion</th>\n",
       "      <th>black_stops_proportion</th>\n",
       "      <th>aian_stops_proportion</th>\n",
       "      <th>asian_stops_proportion</th>\n",
       "      <th>nhopi_stops_proportion</th>\n",
       "      <th>hisp_stops_proportion</th>\n",
       "      <th>other_stops_proportion</th>\n",
       "    </tr>\n",
       "  </thead>\n",
       "  <tbody>\n",
       "    <tr>\n",
       "      <th>706</th>\n",
       "      <td>935.0</td>\n",
       "      <td>251</td>\n",
       "      <td>asian</td>\n",
       "      <td>81</td>\n",
       "      <td>9513</td>\n",
       "      <td>5535</td>\n",
       "      <td>25</td>\n",
       "      <td>6</td>\n",
       "      <td>2731</td>\n",
       "      <td>16</td>\n",
       "      <td>706</td>\n",
       "      <td>494</td>\n",
       "      <td>0.322709</td>\n",
       "      <td>NaN</td>\n",
       "      <td>NaN</td>\n",
       "      <td>NaN</td>\n",
       "      <td>0.029659</td>\n",
       "      <td>NaN</td>\n",
       "      <td>NaN</td>\n",
       "      <td>NaN</td>\n",
       "    </tr>\n",
       "    <tr>\n",
       "      <th>707</th>\n",
       "      <td>935.0</td>\n",
       "      <td>251</td>\n",
       "      <td>black</td>\n",
       "      <td>42</td>\n",
       "      <td>9513</td>\n",
       "      <td>5535</td>\n",
       "      <td>25</td>\n",
       "      <td>6</td>\n",
       "      <td>2731</td>\n",
       "      <td>16</td>\n",
       "      <td>706</td>\n",
       "      <td>494</td>\n",
       "      <td>0.167331</td>\n",
       "      <td>NaN</td>\n",
       "      <td>1.68</td>\n",
       "      <td>NaN</td>\n",
       "      <td>NaN</td>\n",
       "      <td>NaN</td>\n",
       "      <td>NaN</td>\n",
       "      <td>NaN</td>\n",
       "    </tr>\n",
       "    <tr>\n",
       "      <th>708</th>\n",
       "      <td>935.0</td>\n",
       "      <td>251</td>\n",
       "      <td>hisp</td>\n",
       "      <td>132</td>\n",
       "      <td>9513</td>\n",
       "      <td>5535</td>\n",
       "      <td>25</td>\n",
       "      <td>6</td>\n",
       "      <td>2731</td>\n",
       "      <td>16</td>\n",
       "      <td>706</td>\n",
       "      <td>494</td>\n",
       "      <td>0.525896</td>\n",
       "      <td>NaN</td>\n",
       "      <td>NaN</td>\n",
       "      <td>NaN</td>\n",
       "      <td>NaN</td>\n",
       "      <td>NaN</td>\n",
       "      <td>0.186969</td>\n",
       "      <td>NaN</td>\n",
       "    </tr>\n",
       "    <tr>\n",
       "      <th>709</th>\n",
       "      <td>935.0</td>\n",
       "      <td>251</td>\n",
       "      <td>nhopi</td>\n",
       "      <td>4</td>\n",
       "      <td>9513</td>\n",
       "      <td>5535</td>\n",
       "      <td>25</td>\n",
       "      <td>6</td>\n",
       "      <td>2731</td>\n",
       "      <td>16</td>\n",
       "      <td>706</td>\n",
       "      <td>494</td>\n",
       "      <td>0.015936</td>\n",
       "      <td>NaN</td>\n",
       "      <td>NaN</td>\n",
       "      <td>NaN</td>\n",
       "      <td>NaN</td>\n",
       "      <td>0.25</td>\n",
       "      <td>NaN</td>\n",
       "      <td>NaN</td>\n",
       "    </tr>\n",
       "    <tr>\n",
       "      <th>710</th>\n",
       "      <td>935.0</td>\n",
       "      <td>251</td>\n",
       "      <td>white</td>\n",
       "      <td>432</td>\n",
       "      <td>9513</td>\n",
       "      <td>5535</td>\n",
       "      <td>25</td>\n",
       "      <td>6</td>\n",
       "      <td>2731</td>\n",
       "      <td>16</td>\n",
       "      <td>706</td>\n",
       "      <td>494</td>\n",
       "      <td>1.721116</td>\n",
       "      <td>0.078049</td>\n",
       "      <td>NaN</td>\n",
       "      <td>NaN</td>\n",
       "      <td>NaN</td>\n",
       "      <td>NaN</td>\n",
       "      <td>NaN</td>\n",
       "      <td>NaN</td>\n",
       "    </tr>\n",
       "  </tbody>\n",
       "</table>\n",
       "</div>"
      ],
      "text/plain": [
       "      beat  num_crimes   race  num_stops  total  white  black  aian  asian  \\\n",
       "706  935.0         251  asian         81   9513   5535     25     6   2731   \n",
       "707  935.0         251  black         42   9513   5535     25     6   2731   \n",
       "708  935.0         251   hisp        132   9513   5535     25     6   2731   \n",
       "709  935.0         251  nhopi          4   9513   5535     25     6   2731   \n",
       "710  935.0         251  white        432   9513   5535     25     6   2731   \n",
       "\n",
       "     nhopi  hisp  other  stops_to_crimes_ratio  white_stops_proportion  \\\n",
       "706     16   706    494               0.322709                     NaN   \n",
       "707     16   706    494               0.167331                     NaN   \n",
       "708     16   706    494               0.525896                     NaN   \n",
       "709     16   706    494               0.015936                     NaN   \n",
       "710     16   706    494               1.721116                0.078049   \n",
       "\n",
       "     black_stops_proportion  aian_stops_proportion  asian_stops_proportion  \\\n",
       "706                     NaN                    NaN                0.029659   \n",
       "707                    1.68                    NaN                     NaN   \n",
       "708                     NaN                    NaN                     NaN   \n",
       "709                     NaN                    NaN                     NaN   \n",
       "710                     NaN                    NaN                     NaN   \n",
       "\n",
       "     nhopi_stops_proportion  hisp_stops_proportion  other_stops_proportion  \n",
       "706                     NaN                    NaN                     NaN  \n",
       "707                     NaN                    NaN                     NaN  \n",
       "708                     NaN               0.186969                     NaN  \n",
       "709                    0.25                    NaN                     NaN  \n",
       "710                     NaN                    NaN                     NaN  "
      ]
     },
     "execution_count": 16,
     "metadata": {},
     "output_type": "execute_result"
    }
   ],
   "source": [
    "# print the data for beat 316\n",
    "crime_stops_demographics_by_beat[crime_stops_demographics_by_beat['beat'] == 935]"
   ]
  },
  {
   "attachments": {},
   "cell_type": "markdown",
   "metadata": {},
   "source": [
    "## Visualize the data"
   ]
  },
  {
   "cell_type": "code",
   "execution_count": 17,
   "metadata": {},
   "outputs": [],
   "source": [
    "# Read the shapefile\n",
    "shapefile_path = 'pd_beats_datasd/pd_beats_datasd.shp'\n",
    "beat_geodata = gpd.read_file(shapefile_path)"
   ]
  },
  {
   "cell_type": "code",
   "execution_count": 18,
   "metadata": {},
   "outputs": [],
   "source": [
    "# Convert beat column to numeric\n",
    "beat_geodata['beat'] = pd.to_numeric(beat_geodata['beat'])"
   ]
  },
  {
   "cell_type": "code",
   "execution_count": 19,
   "metadata": {},
   "outputs": [],
   "source": [
    "# Aggregate the stop data by beat (replace 'count' with the column of interest)\n",
    "aggregated_stops = stops_data.groupby(['beat']).size().reset_index(name='count')\n",
    "\n",
    "# Merge the geodata with the aggregated stop data\n",
    "merged_geodata = beat_geodata.merge(aggregated_stops, on='beat')"
   ]
  },
  {
   "cell_type": "code",
   "execution_count": 20,
   "metadata": {},
   "outputs": [
    {
     "data": {
      "image/png": "[encoded data removed]",
      "text/plain": [
       "<Figure size 1000x1000 with 2 Axes>"
      ]
     },
     "metadata": {},
     "output_type": "display_data"
    }
   ],
   "source": [
    "# Plot the choropleth map\n",
    "fig, ax = plt.subplots(1, 1, figsize=(10, 10))\n",
    "merged_geodata.plot(column='count', cmap='coolwarm', legend=True, ax=ax)\n",
    "ax.set_title('Stop Data by Beat')\n",
    "ax.set_axis_off()\n",
    "plt.show()"
   ]
  },
  {
   "attachments": {},
   "cell_type": "markdown",
   "metadata": {},
   "source": [
    "## TODO: EDA\n",
    "Descriptive Statistics:\n",
    "- Calculate summary statistics (mean, median, mode, standard deviation) for the number of stops and crimes by beat.\n",
    "- Analyze the distribution of stops and crimes by race and beat.\n",
    "- Investigate the temporal trends of stops and crimes (daily, weekly, monthly, or yearly).\n",
    "\n",
    "Visualizations\n",
    "- Create bar plots or pie charts to show the distribution of stops and crimes by race.\n",
    "- Generate line plots or bar plots to visualize the trends of stops and crimes over time (by beat or overall).\n",
    "- Use heatmaps to display the correlation between stops and crimes by beat or by race.\n",
    "- Plot a time series of stops and crimes to identify any patterns or seasonality.\n",
    "- Create box plots or violin plots to visualize the distribution of stops and crimes by beat or race."
   ]
  },
  {
   "attachments": {},
   "cell_type": "markdown",
   "metadata": {},
   "source": [
    "### References\n",
    "Papers\n",
    "- https://www.ojp.gov/ncjrs/virtual-library/abstracts/impact-stops-and-searches-crime-and-community\n",
    "- https://onlinelibrary.wiley.com/doi/10.1111/1745-9133.12172\n",
    "- https://journals.plos.org/plosone/article?id=10.1371/journal.pone.0157223\n",
    "- https://onlinelibrary.wiley.com/doi/10.1002/cl2.1302\n",
    "\n",
    "Articles\n",
    "- https://www.vera.org/newsroom/study-reveals-stop-and-frisk-significantly-impacts-trust-in-new-york-city-police\n",
    "- https://gothamist.com/news/new-york-city-police-have-stopped-and-questioned-more-people-this-year-than-last-as-mayor-adams-cracks-down-on-crime\n",
    "\n",
    "\n"
   ]
  }
 ],
 "metadata": {
  "kernelspec": {
   "display_name": "green",
   "language": "python",
   "name": "python3"
  },
  "language_info": {
   "codemirror_mode": {
    "name": "ipython",
    "version": 3
   },
   "file_extension": ".py",
   "mimetype": "text/x-python",
   "name": "python",
   "nbconvert_exporter": "python",
   "pygments_lexer": "ipython3",
   "version": "3.11.2"
  },
  "orig_nbformat": 4
 },
 "nbformat": 4,
 "nbformat_minor": 2
}
