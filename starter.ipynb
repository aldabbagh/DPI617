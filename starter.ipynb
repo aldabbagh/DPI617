{
 "cells": [
  {
   "cell_type": "code",
   "execution_count": 1,
   "metadata": {},
   "outputs": [],
   "source": [
    "import pandas as pd"
   ]
  },
  {
   "cell_type": "code",
   "execution_count": 2,
   "metadata": {},
   "outputs": [
    {
     "name": "stderr",
     "output_type": "stream",
     "text": [
      "c:\\Users\\Ahmad\\anaconda3\\envs\\green\\lib\\site-packages\\IPython\\core\\interactiveshell.py:3166: DtypeWarning: Columns (15,19) have mixed types.Specify dtype option on import or set low_memory=False.\n",
      "  interactivity=interactivity, compiler=compiler, result=result)\n"
     ]
    }
   ],
   "source": [
    "# Read the crime data\n",
    "\"\"\"\n",
    "Crime Data has the following columns:\n",
    "    ['activityNumber', 'activityType', 'activityDate', 'Year',\n",
    "       'violationSection', 'violationType', 'chargeDescription', 'codeUcr',\n",
    "       'BlockNumber', 'streetDirection', 'streetName', 'streetType', 'city',\n",
    "       'state', 'zipCode', 'beat']\n",
    "\"\"\"\n",
    "crime_data = pd.read_excel('PRA 21-4922_2019-2021_Crimes__UCR Revised.xlsx')\n",
    "\n",
    "# read the stop data\n",
    "\"\"\"\n",
    "Stop Data has the following columns:\n",
    "    ['Unnamed: 0', 'stop_id', 'pid', 'id', 'ori', 'agency', 'exp_years',\n",
    "       'date', 'time', 'dur', 'is_serv', 'assign_key', 'assign_words',\n",
    "       'inters', 'block', 'ldmk', 'street', 'hw_exit', 'is_school',\n",
    "       'school_name', 'city', 'beat', 'beat_name', 'is_student', 'lim_eng',\n",
    "       'age', 'gender_words', 'is_gendnc', 'gender_code', 'gendnc_code',\n",
    "       'lgbt', 'race', 'disability', 'reason_words', 'reasonid', 'reason_text',\n",
    "       'reason_detail', 'reason_exp', 'search_basis', 'search_basis_exp',\n",
    "       'seiz_basis', 'prop_type', 'cont', 'actions', 'act_consent']\n",
    "\"\"\"\n",
    "stops_2019 = pd.read_csv('master-ripa-2019.csv')\n",
    "stops_2020 = pd.read_csv('master-ripa-2020.csv')\n",
    "stops_2021 = pd.read_csv('master-ripa-2021.csv')\n",
    "\n",
    "# read the beat demographics data\n",
    "\"\"\"\n",
    "Beat Demographics Data has the following columns:\n",
    "    ['beat', 'total', 'white', 'black', 'aian', 'asian', 'nhopi', 'hisp']\n",
    "\"\"\"\n",
    "beat_demographics = pd.read_csv('beat_demographics_2019_acs.csv')"
   ]
  },
  {
   "cell_type": "code",
   "execution_count": 4,
   "metadata": {},
   "outputs": [],
   "source": [
    "# Combine stops data from 2019, 2020, and 2021\n",
    "stops_data = pd.concat([stops_2019, stops_2020, stops_2021])"
   ]
  },
  {
   "attachments": {},
   "cell_type": "markdown",
   "metadata": {},
   "source": [
    "Fix Race Labels in the stop data"
   ]
  },
  {
   "cell_type": "code",
   "execution_count": 27,
   "metadata": {},
   "outputs": [
    {
     "name": "stdout",
     "output_type": "stream",
     "text": [
      "146\n"
     ]
    }
   ],
   "source": [
    "# print number of unique race values\n",
    "print(len(stops_data[\"race\"].unique()))"
   ]
  },
  {
   "cell_type": "code",
   "execution_count": 33,
   "metadata": {},
   "outputs": [],
   "source": [
    "# convert race to string typ\n",
    "stops_data[\"race\"] = stops_data[\"race\"].astype(str)"
   ]
  },
  {
   "cell_type": "code",
   "execution_count": 39,
   "metadata": {},
   "outputs": [
    {
     "data": {
      "text/plain": [
       "146"
      ]
     },
     "execution_count": 39,
     "metadata": {},
     "output_type": "execute_result"
    }
   ],
   "source": [
    "len(stops_data[\"race\"].unique())"
   ]
  },
  {
   "cell_type": "code",
   "execution_count": 35,
   "metadata": {},
   "outputs": [
    {
     "data": {
      "text/plain": [
       "0          Hispanic/Latino/a\n",
       "1                      White\n",
       "2    Hispanic/Latino/a|White\n",
       "3          Hispanic/Latino/a\n",
       "4     Black/African American\n",
       "Name: race, dtype: object"
      ]
     },
     "execution_count": 35,
     "metadata": {},
     "output_type": "execute_result"
    }
   ],
   "source": [
    "# print first 5 instances of race\n",
    "stops_data[\"race\"].head()"
   ]
  },
  {
   "cell_type": "code",
   "execution_count": 37,
   "metadata": {},
   "outputs": [
    {
     "data": {
      "text/plain": [
       "1"
      ]
     },
     "execution_count": 37,
     "metadata": {},
     "output_type": "execute_result"
    }
   ],
   "source": [
    "# check if the first 5 have \"|\" in them\n",
    "stops_data[\"race\"][0:5].str.contains('\\\\|', regex=True).sum()"
   ]
  },
  {
   "cell_type": "code",
   "execution_count": 38,
   "metadata": {},
   "outputs": [
    {
     "name": "stdout",
     "output_type": "stream",
     "text": [
      "Multiracial count: 3767 out of 407684 (0.92%)\n"
     ]
    }
   ],
   "source": [
    "multiracial_count = stops_data['race'].str.contains('\\\\|', regex=True).sum()\n",
    "total_count = len(stops_data)\n",
    "print(f\"Multiracial count: {multiracial_count} out of {total_count} ({100 * multiracial_count / total_count:.2f}%)\")"
   ]
  },
  {
   "cell_type": "code",
   "execution_count": 40,
   "metadata": {},
   "outputs": [
    {
     "data": {
      "text/plain": [
       "White                            168446\n",
       "Hispanic/Latino/a                119515\n",
       "Black/African American            81387\n",
       "Asian                             19647\n",
       "Middle Eastern or South Asian     11001\n",
       "Pacific Islander                   3112\n",
       "Native American                     809\n",
       "Name: race, dtype: int64"
      ]
     },
     "execution_count": 40,
     "metadata": {},
     "output_type": "execute_result"
    }
   ],
   "source": [
    "# count the unique values in the race column that do not contain '\\\\|'\n",
    "stops_data[\"race\"][~stops_data[\"race\"].str.contains('\\\\|', regex=True)].value_counts()"
   ]
  },
  {
   "cell_type": "code",
   "execution_count": 42,
   "metadata": {},
   "outputs": [],
   "source": [
    "def simplify_race(race):\n",
    "    if 'White' in race:\n",
    "        return 'white'\n",
    "    elif 'Black/African American' in race:\n",
    "        return 'black'\n",
    "    elif 'Asian' in race:\n",
    "        return 'asian'\n",
    "    elif 'Hispanic/Latino/a' in race:\n",
    "        return 'hisp'\n",
    "    elif 'Native American' in race:\n",
    "        return 'aian'\n",
    "    elif 'Pacific Islander' in race:\n",
    "        return 'nhopi'\n",
    "    elif 'Middle Eastern or South Asian' in race:\n",
    "        return 'other'\n",
    "    else:\n",
    "        return 'other'"
   ]
  },
  {
   "cell_type": "code",
   "execution_count": 43,
   "metadata": {},
   "outputs": [],
   "source": [
    "# apply the simplify_race function to the race column\n",
    "stops_data[\"race\"] = stops_data[\"race\"].apply(simplify_race)"
   ]
  },
  {
   "attachments": {},
   "cell_type": "markdown",
   "metadata": {},
   "source": [
    "Add other race to demographic data"
   ]
  },
  {
   "cell_type": "code",
   "execution_count": 44,
   "metadata": {},
   "outputs": [],
   "source": [
    "beat_demographics['other'] = beat_demographics['total'] - (\n",
    "    beat_demographics['white'] + \n",
    "    beat_demographics['black'] + \n",
    "    beat_demographics['aian'] + \n",
    "    beat_demographics['asian'] + \n",
    "    beat_demographics['nhopi'] + \n",
    "    beat_demographics['hisp']\n",
    ")\n"
   ]
  },
  {
   "cell_type": "code",
   "execution_count": 46,
   "metadata": {},
   "outputs": [],
   "source": [
    "# Group crime and stops data by beat\n",
    "crime_by_beat = crime_data.groupby('beat').size().reset_index(name='num_crimes')\n",
    "stops_by_beat = stops_data.groupby(['beat', 'race']).size().reset_index(name='num_stops')\n",
    "\n",
    "# Merge crime and stops data by beat\n",
    "crime_stops_by_beat = pd.merge(crime_by_beat, stops_by_beat, on='beat')\n",
    "\n",
    "# Merge crime_stops_by_beat with beat_demographics\n",
    "crime_stops_demographics_by_beat = pd.merge(crime_stops_by_beat, beat_demographics, on='beat')\n",
    "\n",
    "# Calculate the ratio of stops to crimes in each beat\n",
    "crime_stops_demographics_by_beat['stops_to_crimes_ratio'] = crime_stops_demographics_by_beat['num_stops'] / crime_stops_demographics_by_beat['num_crimes']\n",
    "\n",
    "# Calculate the proportion of stops for each racial group in each beat\n",
    "racial_groups = ['white', 'black', 'aian', 'asian', 'nhopi', 'hisp', 'other']\n",
    "for group in racial_groups:\n",
    "    crime_stops_demographics_by_beat[f'{group}_stops_proportion'] = crime_stops_demographics_by_beat.loc[crime_stops_demographics_by_beat['race'] == group, 'num_stops'] / crime_stops_demographics_by_beat[group]"
   ]
  },
  {
   "cell_type": "code",
   "execution_count": 47,
   "metadata": {},
   "outputs": [
    {
     "name": "stdout",
     "output_type": "stream",
     "text": [
      "      beat  num_crimes   race  num_stops  total  white  black  aian  asian  \\\n",
      "155  316.0          36  white        245   1163    691     57     3    102   \n",
      "516  714.0         231   hisp       1098    194      4      5     0      6   \n",
      "500  711.0          33   hisp        125   8205    482    243     0    397   \n",
      "432  614.0        2277  white       7985  10937   8657    260    14    314   \n",
      "92   235.0          32  white        100   2654   1591     35     0    324   \n",
      "..     ...         ...    ...        ...    ...    ...    ...   ...    ...   \n",
      "70   232.0         845   aian          1  11531   5652    204     8   4089   \n",
      "53   124.0        3401   aian          4  30257  22649    552     8   2980   \n",
      "104  243.0         931   aian          1   6173   2021    275    45   2134   \n",
      "543  725.0        1077   aian          1   4999    881    541    16    954   \n",
      "23   115.0        4017   aian          2  49954  24314    871   220  16481   \n",
      "\n",
      "     nhopi  hisp  other  stops_to_crimes_ratio  white_stops_proportion  \\\n",
      "155      0   271     39               6.805556                0.354559   \n",
      "516      0   179      0               4.753247                     NaN   \n",
      "500      0  6965    118               3.787879                     NaN   \n",
      "432      3  1380    309               3.506807                0.922375   \n",
      "92       0   612     92               3.125000                0.062854   \n",
      "..     ...   ...    ...                    ...                     ...   \n",
      "70      13  1260    305               0.001183                     NaN   \n",
      "53      27  2920   1121               0.001176                     NaN   \n",
      "104     33  1249    416               0.001074                     NaN   \n",
      "543     17  2519     71               0.000929                     NaN   \n",
      "23      27  5845   2196               0.000498                     NaN   \n",
      "\n",
      "     black_stops_proportion  aian_stops_proportion  asian_stops_proportion  \\\n",
      "155                     NaN                    NaN                     NaN   \n",
      "516                     NaN                    NaN                     NaN   \n",
      "500                     NaN                    NaN                     NaN   \n",
      "432                     NaN                    NaN                     NaN   \n",
      "92                      NaN                    NaN                     NaN   \n",
      "..                      ...                    ...                     ...   \n",
      "70                      NaN               0.125000                     NaN   \n",
      "53                      NaN               0.500000                     NaN   \n",
      "104                     NaN               0.022222                     NaN   \n",
      "543                     NaN               0.062500                     NaN   \n",
      "23                      NaN               0.009091                     NaN   \n",
      "\n",
      "     nhopi_stops_proportion  hisp_stops_proportion  other_stops_proportion  \n",
      "155                     NaN                    NaN                     NaN  \n",
      "516                     NaN               6.134078                     NaN  \n",
      "500                     NaN               0.017947                     NaN  \n",
      "432                     NaN                    NaN                     NaN  \n",
      "92                      NaN                    NaN                     NaN  \n",
      "..                      ...                    ...                     ...  \n",
      "70                      NaN                    NaN                     NaN  \n",
      "53                      NaN                    NaN                     NaN  \n",
      "104                     NaN                    NaN                     NaN  \n",
      "543                     NaN                    NaN                     NaN  \n",
      "23                      NaN                    NaN                     NaN  \n",
      "\n",
      "[721 rows x 20 columns]\n"
     ]
    }
   ],
   "source": [
    "# Display the results\n",
    "print(crime_stops_demographics_by_beat.sort_values(by='stops_to_crimes_ratio', ascending=False))"
   ]
  },
  {
   "cell_type": "code",
   "execution_count": 49,
   "metadata": {},
   "outputs": [
    {
     "data": {
      "text/html": [
       "<div>\n",
       "<style scoped>\n",
       "    .dataframe tbody tr th:only-of-type {\n",
       "        vertical-align: middle;\n",
       "    }\n",
       "\n",
       "    .dataframe tbody tr th {\n",
       "        vertical-align: top;\n",
       "    }\n",
       "\n",
       "    .dataframe thead th {\n",
       "        text-align: right;\n",
       "    }\n",
       "</style>\n",
       "<table border=\"1\" class=\"dataframe\">\n",
       "  <thead>\n",
       "    <tr style=\"text-align: right;\">\n",
       "      <th></th>\n",
       "      <th>beat</th>\n",
       "      <th>num_crimes</th>\n",
       "      <th>race</th>\n",
       "      <th>num_stops</th>\n",
       "      <th>total</th>\n",
       "      <th>white</th>\n",
       "      <th>black</th>\n",
       "      <th>aian</th>\n",
       "      <th>asian</th>\n",
       "      <th>nhopi</th>\n",
       "      <th>hisp</th>\n",
       "      <th>other</th>\n",
       "      <th>stops_to_crimes_ratio</th>\n",
       "      <th>white_stops_proportion</th>\n",
       "      <th>black_stops_proportion</th>\n",
       "      <th>aian_stops_proportion</th>\n",
       "      <th>asian_stops_proportion</th>\n",
       "      <th>nhopi_stops_proportion</th>\n",
       "      <th>hisp_stops_proportion</th>\n",
       "      <th>other_stops_proportion</th>\n",
       "    </tr>\n",
       "  </thead>\n",
       "  <tbody>\n",
       "    <tr>\n",
       "      <th>513</th>\n",
       "      <td>714.0</td>\n",
       "      <td>231</td>\n",
       "      <td>aian</td>\n",
       "      <td>3</td>\n",
       "      <td>194</td>\n",
       "      <td>4</td>\n",
       "      <td>5</td>\n",
       "      <td>0</td>\n",
       "      <td>6</td>\n",
       "      <td>0</td>\n",
       "      <td>179</td>\n",
       "      <td>0</td>\n",
       "      <td>0.012987</td>\n",
       "      <td>NaN</td>\n",
       "      <td>NaN</td>\n",
       "      <td>inf</td>\n",
       "      <td>NaN</td>\n",
       "      <td>NaN</td>\n",
       "      <td>NaN</td>\n",
       "      <td>NaN</td>\n",
       "    </tr>\n",
       "    <tr>\n",
       "      <th>514</th>\n",
       "      <td>714.0</td>\n",
       "      <td>231</td>\n",
       "      <td>asian</td>\n",
       "      <td>47</td>\n",
       "      <td>194</td>\n",
       "      <td>4</td>\n",
       "      <td>5</td>\n",
       "      <td>0</td>\n",
       "      <td>6</td>\n",
       "      <td>0</td>\n",
       "      <td>179</td>\n",
       "      <td>0</td>\n",
       "      <td>0.203463</td>\n",
       "      <td>NaN</td>\n",
       "      <td>NaN</td>\n",
       "      <td>NaN</td>\n",
       "      <td>7.833333</td>\n",
       "      <td>NaN</td>\n",
       "      <td>NaN</td>\n",
       "      <td>NaN</td>\n",
       "    </tr>\n",
       "    <tr>\n",
       "      <th>515</th>\n",
       "      <td>714.0</td>\n",
       "      <td>231</td>\n",
       "      <td>black</td>\n",
       "      <td>89</td>\n",
       "      <td>194</td>\n",
       "      <td>4</td>\n",
       "      <td>5</td>\n",
       "      <td>0</td>\n",
       "      <td>6</td>\n",
       "      <td>0</td>\n",
       "      <td>179</td>\n",
       "      <td>0</td>\n",
       "      <td>0.385281</td>\n",
       "      <td>NaN</td>\n",
       "      <td>17.8</td>\n",
       "      <td>NaN</td>\n",
       "      <td>NaN</td>\n",
       "      <td>NaN</td>\n",
       "      <td>NaN</td>\n",
       "      <td>NaN</td>\n",
       "    </tr>\n",
       "    <tr>\n",
       "      <th>516</th>\n",
       "      <td>714.0</td>\n",
       "      <td>231</td>\n",
       "      <td>hisp</td>\n",
       "      <td>1098</td>\n",
       "      <td>194</td>\n",
       "      <td>4</td>\n",
       "      <td>5</td>\n",
       "      <td>0</td>\n",
       "      <td>6</td>\n",
       "      <td>0</td>\n",
       "      <td>179</td>\n",
       "      <td>0</td>\n",
       "      <td>4.753247</td>\n",
       "      <td>NaN</td>\n",
       "      <td>NaN</td>\n",
       "      <td>NaN</td>\n",
       "      <td>NaN</td>\n",
       "      <td>NaN</td>\n",
       "      <td>6.134078</td>\n",
       "      <td>NaN</td>\n",
       "    </tr>\n",
       "    <tr>\n",
       "      <th>517</th>\n",
       "      <td>714.0</td>\n",
       "      <td>231</td>\n",
       "      <td>nhopi</td>\n",
       "      <td>2</td>\n",
       "      <td>194</td>\n",
       "      <td>4</td>\n",
       "      <td>5</td>\n",
       "      <td>0</td>\n",
       "      <td>6</td>\n",
       "      <td>0</td>\n",
       "      <td>179</td>\n",
       "      <td>0</td>\n",
       "      <td>0.008658</td>\n",
       "      <td>NaN</td>\n",
       "      <td>NaN</td>\n",
       "      <td>NaN</td>\n",
       "      <td>NaN</td>\n",
       "      <td>inf</td>\n",
       "      <td>NaN</td>\n",
       "      <td>NaN</td>\n",
       "    </tr>\n",
       "    <tr>\n",
       "      <th>518</th>\n",
       "      <td>714.0</td>\n",
       "      <td>231</td>\n",
       "      <td>white</td>\n",
       "      <td>379</td>\n",
       "      <td>194</td>\n",
       "      <td>4</td>\n",
       "      <td>5</td>\n",
       "      <td>0</td>\n",
       "      <td>6</td>\n",
       "      <td>0</td>\n",
       "      <td>179</td>\n",
       "      <td>0</td>\n",
       "      <td>1.640693</td>\n",
       "      <td>94.75</td>\n",
       "      <td>NaN</td>\n",
       "      <td>NaN</td>\n",
       "      <td>NaN</td>\n",
       "      <td>NaN</td>\n",
       "      <td>NaN</td>\n",
       "      <td>NaN</td>\n",
       "    </tr>\n",
       "  </tbody>\n",
       "</table>\n",
       "</div>"
      ],
      "text/plain": [
       "      beat  num_crimes   race  num_stops  total  white  black  aian  asian  \\\n",
       "513  714.0         231   aian          3    194      4      5     0      6   \n",
       "514  714.0         231  asian         47    194      4      5     0      6   \n",
       "515  714.0         231  black         89    194      4      5     0      6   \n",
       "516  714.0         231   hisp       1098    194      4      5     0      6   \n",
       "517  714.0         231  nhopi          2    194      4      5     0      6   \n",
       "518  714.0         231  white        379    194      4      5     0      6   \n",
       "\n",
       "     nhopi  hisp  other  stops_to_crimes_ratio  white_stops_proportion  \\\n",
       "513      0   179      0               0.012987                     NaN   \n",
       "514      0   179      0               0.203463                     NaN   \n",
       "515      0   179      0               0.385281                     NaN   \n",
       "516      0   179      0               4.753247                     NaN   \n",
       "517      0   179      0               0.008658                     NaN   \n",
       "518      0   179      0               1.640693                   94.75   \n",
       "\n",
       "     black_stops_proportion  aian_stops_proportion  asian_stops_proportion  \\\n",
       "513                     NaN                    inf                     NaN   \n",
       "514                     NaN                    NaN                7.833333   \n",
       "515                    17.8                    NaN                     NaN   \n",
       "516                     NaN                    NaN                     NaN   \n",
       "517                     NaN                    NaN                     NaN   \n",
       "518                     NaN                    NaN                     NaN   \n",
       "\n",
       "     nhopi_stops_proportion  hisp_stops_proportion  other_stops_proportion  \n",
       "513                     NaN                    NaN                     NaN  \n",
       "514                     NaN                    NaN                     NaN  \n",
       "515                     NaN                    NaN                     NaN  \n",
       "516                     NaN               6.134078                     NaN  \n",
       "517                     inf                    NaN                     NaN  \n",
       "518                     NaN                    NaN                     NaN  "
      ]
     },
     "execution_count": 49,
     "metadata": {},
     "output_type": "execute_result"
    }
   ],
   "source": [
    "# print the data for beat 316\n",
    "crime_stops_demographics_by_beat[crime_stops_demographics_by_beat['beat'] == 714]"
   ]
  }
 ],
 "metadata": {
  "kernelspec": {
   "display_name": "green",
   "language": "python",
   "name": "python3"
  },
  "language_info": {
   "codemirror_mode": {
    "name": "ipython",
    "version": 3
   },
   "file_extension": ".py",
   "mimetype": "text/x-python",
   "name": "python",
   "nbconvert_exporter": "python",
   "pygments_lexer": "ipython3",
   "version": "3.7.0"
  },
  "orig_nbformat": 4
 },
 "nbformat": 4,
 "nbformat_minor": 2
}
