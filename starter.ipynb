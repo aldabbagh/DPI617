{
 "cells": [
  {
   "attachments": {},
   "cell_type": "markdown",
   "metadata": {},
   "source": [
    "# Exploring the Relationship Between Police Stops and Crime in San Diego: A Microgeographic Analysis of Demographic Factors and Policing Strategies"
   ]
  },
  {
   "attachments": {},
   "cell_type": "markdown",
   "metadata": {},
   "source": [
    "In recent years, the effectiveness and implications of police stops have been at the center of public debate and academic inquiry. This study aims to contribute to the ongoing discourse by examining the relationship between police stops and crime in San Diego at a microgeographic level. By focusing on regional variations, demographic factors, and community impact, we seek to provide valuable insights into the efficiency and consequences of police stops within the city's diverse police beats. Through a comprehensive analysis of crime patterns and outcomes, our research aims to inform evidence-based recommendations for refining and improving policing strategies in San Diego and other similar urban areas, ultimately fostering more equitable and effective law enforcement practices.\n",
    "\n",
    "In examining the relationship between police stops and crime, it is important to consider the existing literature on this subject. Miller et al. (2000) found that while stops and searches play some role in fighting crime and lead to about one-tenth of arrests nationally, they have only a small impact on the detection and prevention of recorded or reported crime. Additionally, searches tend to have a negative impact on public confidence in the police, often due to perceived impoliteness and inadequate explanations for stopping individuals. The authors recommend focusing on efficient and targeted use of searches based on intelligence and high levels of suspicion, while emphasizing more serious crimes and prolific offenders.\n",
    "\n",
    "MacDonald et al. (2016) investigated the effects of the New York Police Department's (NYPD) Operation Impact, which deployed extra police officers to high crime areas. The authors found that impact zones were associated with significant reductions in reported crimes and increases in reported arrests. However, they also noted that the majority of investigative stops did not play an important role in crime reduction, suggesting that more focused investigative stops could be more effective.\n",
    "\n",
    "Weisburd et al. (2015) explored the impact of stop, question, and frisks (SQFs) on crime in New York City at a microgeographic level. They found that SQFs produce a significant yet modest deterrent effect on crime, but questioned whether other policing strategies might yield similar or stronger crime-control outcomes. They also noted that the level of SQFs needed to achieve meaningful crime reductions can be costly and potentially harmful to police legitimacy.\n",
    "\n",
    "Petersen et al. (2023) conducted a systematic review and meta-analysis on the effects of police-initiated pedestrian stops on crime and individual-level outcomes. Their findings indicated that pedestrian stop interventions were associated with a statistically significant reduction in crime for treatment areas relative to control areas. However, they also found that such interventions led to a broad range of negative individual-level effects, such as increased odds of mental and physical health issues, more negative attitudes toward the police, and higher levels of self-reported crime and delinquency. The authors concluded that, although pedestrian stop interventions have favorable effects on place-based crime and displacement outcomes, the negative individual-level effects make it difficult to recommend their use over alternative policing interventions.\n",
    "\n",
    "By examining the relationship between stops and crime within San Diego's police beats, our study will add valuable insights on regional variations in the effectiveness of police stops. This localized focus allows us to compare different areas with varying levels of crime and stops, providing insights that can be used to improve policing strategies. Furthermore, our research will assess the efficiency of police stops in San Diego and explore how well they align with crime levels across different police beats.\n",
    "\n",
    "Focusing on demographic factors, our study will investigate the role of variables such as race and gender in the relationship between police stops and crime in San Diego. By examining how these factors may influence the patterns and outcomes of stops, we aim to contribute to a deeper understanding of the impact of police practices on different communities and support the development of more equitable policing strategies.\n",
    "\n",
    "In summary, our study on the relationship between police stops and crime in San Diego will complement and extend the existing literature, offering valuable insights that contribute to a deeper understanding of this relationship and providing evidence-based recommendations for refining and improving policing strategies in San Diego and other similar cities."
   ]
  },
  {
   "attachments": {},
   "cell_type": "markdown",
   "metadata": {},
   "source": [
    "### Data Prep"
   ]
  },
  {
   "cell_type": "code",
   "execution_count": 52,
   "metadata": {},
   "outputs": [],
   "source": [
    "import pandas as pd\n",
    "import geopandas as gpd\n",
    "import matplotlib.pyplot as plt\n",
    "from pandas_profiling import ProfileReport\n",
    "import pandas as pd\n",
    "import statsmodels.api as sm\n",
    "import statsmodels.formula.api as smf\n",
    "import numpy as np\n",
    "from stargazer.stargazer import Stargazer"
   ]
  },
  {
   "cell_type": "code",
   "execution_count": 3,
   "metadata": {},
   "outputs": [
    {
     "name": "stderr",
     "output_type": "stream",
     "text": [
      "c:\\Users\\Ahmad\\anaconda3\\envs\\green\\lib\\site-packages\\IPython\\core\\interactiveshell.py:3166: DtypeWarning: Columns (15,19) have mixed types.Specify dtype option on import or set low_memory=False.\n",
      "  interactivity=interactivity, compiler=compiler, result=result)\n"
     ]
    }
   ],
   "source": [
    "# Read the crime data\n",
    "\"\"\"\n",
    "Crime Data has the following columns:\n",
    "    ['activityNumber', 'activityType', 'activityDate', 'Year',\n",
    "       'violationSection', 'violationType', 'chargeDescription', 'codeUcr',\n",
    "       'BlockNumber', 'streetDirection', 'streetName', 'streetType', 'city',\n",
    "       'state', 'zipCode', 'beat']\n",
    "\"\"\"\n",
    "crime_data = pd.read_excel('PRA 21-4922_2019-2021_Crimes__UCR Revised.xlsx')\n",
    "\n",
    "# read the stop data\n",
    "\"\"\"\n",
    "Stop Data has the following columns:\n",
    "    ['Unnamed: 0', 'stop_id', 'pid', 'id', 'ori', 'agency', 'exp_years',\n",
    "       'date', 'time', 'dur', 'is_serv', 'assign_key', 'assign_words',\n",
    "       'inters', 'block', 'ldmk', 'street', 'hw_exit', 'is_school',\n",
    "       'school_name', 'city', 'beat', 'beat_name', 'is_student', 'lim_eng',\n",
    "       'age', 'gender_words', 'is_gendnc', 'gender_code', 'gendnc_code',\n",
    "       'lgbt', 'race', 'disability', 'reason_words', 'reasonid', 'reason_text',\n",
    "       'reason_detail', 'reason_exp', 'search_basis', 'search_basis_exp',\n",
    "       'seiz_basis', 'prop_type', 'cont', 'actions', 'act_consent']\n",
    "\"\"\"\n",
    "stops_2019 = pd.read_csv('master-ripa-2019.csv')\n",
    "stops_2020 = pd.read_csv('master-ripa-2020.csv')\n",
    "stops_2021 = pd.read_csv('master-ripa-2021.csv')\n",
    "\n",
    "# read the beat demographics data\n",
    "\"\"\"\n",
    "Beat Demographics Data has the following columns:\n",
    "    ['beat', 'total', 'white', 'black', 'aian', 'asian', 'nhopi', 'hisp']\n",
    "\"\"\"\n",
    "beat_demographics = pd.read_csv('beat_demographics_2019_acs.csv')"
   ]
  },
  {
   "cell_type": "code",
   "execution_count": 4,
   "metadata": {},
   "outputs": [],
   "source": [
    "# Combine stops data from 2019, 2020, and 2021\n",
    "stops_data = pd.concat([stops_2019, stops_2020, stops_2021])"
   ]
  },
  {
   "attachments": {},
   "cell_type": "markdown",
   "metadata": {},
   "source": [
    "Fix Race Labels in the stop data"
   ]
  },
  {
   "cell_type": "code",
   "execution_count": 5,
   "metadata": {},
   "outputs": [
    {
     "name": "stdout",
     "output_type": "stream",
     "text": [
      "146\n"
     ]
    }
   ],
   "source": [
    "# print number of unique race values\n",
    "print(len(stops_data[\"race\"].unique()))"
   ]
  },
  {
   "cell_type": "code",
   "execution_count": 6,
   "metadata": {},
   "outputs": [],
   "source": [
    "# convert race to string typ\n",
    "stops_data[\"race\"] = stops_data[\"race\"].astype(str)"
   ]
  },
  {
   "cell_type": "code",
   "execution_count": 7,
   "metadata": {},
   "outputs": [
    {
     "data": {
      "text/plain": [
       "146"
      ]
     },
     "execution_count": 7,
     "metadata": {},
     "output_type": "execute_result"
    }
   ],
   "source": [
    "len(stops_data[\"race\"].unique())"
   ]
  },
  {
   "cell_type": "code",
   "execution_count": 8,
   "metadata": {},
   "outputs": [
    {
     "data": {
      "text/plain": [
       "0          Hispanic/Latino/a\n",
       "1                      White\n",
       "2    Hispanic/Latino/a|White\n",
       "3          Hispanic/Latino/a\n",
       "4     Black/African American\n",
       "Name: race, dtype: object"
      ]
     },
     "execution_count": 8,
     "metadata": {},
     "output_type": "execute_result"
    }
   ],
   "source": [
    "# print first 5 instances of race\n",
    "stops_data[\"race\"].head()"
   ]
  },
  {
   "cell_type": "code",
   "execution_count": 9,
   "metadata": {},
   "outputs": [
    {
     "data": {
      "text/plain": [
       "1"
      ]
     },
     "execution_count": 9,
     "metadata": {},
     "output_type": "execute_result"
    }
   ],
   "source": [
    "# check if the first 5 have \"|\" in them\n",
    "stops_data[\"race\"][0:5].str.contains('\\\\|', regex=True).sum()"
   ]
  },
  {
   "cell_type": "code",
   "execution_count": 10,
   "metadata": {},
   "outputs": [
    {
     "name": "stdout",
     "output_type": "stream",
     "text": [
      "Multiracial count: 3767 out of 407684 (0.92%)\n"
     ]
    }
   ],
   "source": [
    "multiracial_count = stops_data['race'].str.contains('\\\\|', regex=True).sum()\n",
    "total_count = len(stops_data)\n",
    "print(f\"Multiracial count: {multiracial_count} out of {total_count} ({100 * multiracial_count / total_count:.2f}%)\")"
   ]
  },
  {
   "cell_type": "code",
   "execution_count": 11,
   "metadata": {},
   "outputs": [
    {
     "data": {
      "text/plain": [
       "White                            168446\n",
       "Hispanic/Latino/a                119515\n",
       "Black/African American            81387\n",
       "Asian                             19647\n",
       "Middle Eastern or South Asian     11001\n",
       "Pacific Islander                   3112\n",
       "Native American                     809\n",
       "Name: race, dtype: int64"
      ]
     },
     "execution_count": 11,
     "metadata": {},
     "output_type": "execute_result"
    }
   ],
   "source": [
    "# count the unique values in the race column that do not contain '\\\\|'\n",
    "stops_data[\"race\"][~stops_data[\"race\"].str.contains('\\\\|', regex=True)].value_counts()"
   ]
  },
  {
   "cell_type": "code",
   "execution_count": 12,
   "metadata": {},
   "outputs": [],
   "source": [
    "def simplify_race(race):\n",
    "    if 'White' in race:\n",
    "        return 'white'\n",
    "    elif 'Black/African American' in race:\n",
    "        return 'black'\n",
    "    elif 'Asian' in race:\n",
    "        return 'asian'\n",
    "    elif 'Hispanic/Latino/a' in race:\n",
    "        return 'hisp'\n",
    "    elif 'Native American' in race:\n",
    "        # https://www.census.gov/programs-surveys/acs/data/race-aian.html\n",
    "        return 'aian'\n",
    "    elif 'Pacific Islander' in race:\n",
    "        return 'nhopi'\n",
    "    elif 'Middle Eastern or South Asian' in race:\n",
    "        return 'other'\n",
    "    else:\n",
    "        return 'other'"
   ]
  },
  {
   "cell_type": "code",
   "execution_count": 13,
   "metadata": {},
   "outputs": [],
   "source": [
    "# apply the simplify_race function to the race column\n",
    "stops_data[\"race\"] = stops_data[\"race\"].apply(simplify_race)"
   ]
  },
  {
   "attachments": {},
   "cell_type": "markdown",
   "metadata": {},
   "source": [
    "Add other race to demographic data"
   ]
  },
  {
   "cell_type": "code",
   "execution_count": 14,
   "metadata": {},
   "outputs": [],
   "source": [
    "beat_demographics['other'] = beat_demographics['total'] - (\n",
    "    beat_demographics['white'] + \n",
    "    beat_demographics['black'] + \n",
    "    beat_demographics['aian'] + \n",
    "    beat_demographics['asian'] + \n",
    "    beat_demographics['nhopi'] + \n",
    "    beat_demographics['hisp']\n",
    ")"
   ]
  },
  {
   "cell_type": "code",
   "execution_count": 15,
   "metadata": {},
   "outputs": [],
   "source": [
    "# Group crime and stops data by beat\n",
    "crime_by_beat = crime_data.groupby('beat').size().reset_index(name='num_crimes')\n",
    "stops_by_beat = stops_data.groupby(['beat', 'race']).size().reset_index(name='num_stops')\n",
    "\n",
    "# Merge crime and stops data by beat\n",
    "crime_stops_by_beat = pd.merge(crime_by_beat, stops_by_beat, on='beat')\n",
    "\n",
    "# Merge crime_stops_by_beat with beat_demographics\n",
    "crime_stops_demographics_by_beat = pd.merge(crime_stops_by_beat, beat_demographics, on='beat')\n",
    "\n",
    "# Calculate the ratio of stops to crimes in each beat\n",
    "crime_stops_demographics_by_beat['stops_to_crimes_ratio'] = crime_stops_demographics_by_beat['num_stops'] / crime_stops_demographics_by_beat['num_crimes']\n",
    "\n",
    "# Calculate the proportion of stops for each racial group in each beat\n",
    "racial_groups = ['white', 'black', 'aian', 'asian', 'nhopi', 'hisp', 'other']\n",
    "for group in racial_groups:\n",
    "    crime_stops_demographics_by_beat[f'{group}_stops_proportion'] = crime_stops_demographics_by_beat.loc[crime_stops_demographics_by_beat['race'] == group, 'num_stops'] / crime_stops_demographics_by_beat[group]"
   ]
  },
  {
   "cell_type": "code",
   "execution_count": 16,
   "metadata": {},
   "outputs": [
    {
     "name": "stdout",
     "output_type": "stream",
     "text": [
      "      beat  num_crimes   race  num_stops  total  white  black  aian  asian  \\\n",
      "155  316.0          36  white        245   1163    691     57     3    102   \n",
      "516  714.0         231   hisp       1098    194      4      5     0      6   \n",
      "500  711.0          33   hisp        125   8205    482    243     0    397   \n",
      "432  614.0        2277  white       7985  10937   8657    260    14    314   \n",
      "92   235.0          32  white        100   2654   1591     35     0    324   \n",
      "..     ...         ...    ...        ...    ...    ...    ...   ...    ...   \n",
      "70   232.0         845   aian          1  11531   5652    204     8   4089   \n",
      "53   124.0        3401   aian          4  30257  22649    552     8   2980   \n",
      "104  243.0         931   aian          1   6173   2021    275    45   2134   \n",
      "543  725.0        1077   aian          1   4999    881    541    16    954   \n",
      "23   115.0        4017   aian          2  49954  24314    871   220  16481   \n",
      "\n",
      "     nhopi  hisp  other  stops_to_crimes_ratio  white_stops_proportion  \\\n",
      "155      0   271     39               6.805556                0.354559   \n",
      "516      0   179      0               4.753247                     NaN   \n",
      "500      0  6965    118               3.787879                     NaN   \n",
      "432      3  1380    309               3.506807                0.922375   \n",
      "92       0   612     92               3.125000                0.062854   \n",
      "..     ...   ...    ...                    ...                     ...   \n",
      "70      13  1260    305               0.001183                     NaN   \n",
      "53      27  2920   1121               0.001176                     NaN   \n",
      "104     33  1249    416               0.001074                     NaN   \n",
      "543     17  2519     71               0.000929                     NaN   \n",
      "23      27  5845   2196               0.000498                     NaN   \n",
      "\n",
      "     black_stops_proportion  aian_stops_proportion  asian_stops_proportion  \\\n",
      "155                     NaN                    NaN                     NaN   \n",
      "516                     NaN                    NaN                     NaN   \n",
      "500                     NaN                    NaN                     NaN   \n",
      "432                     NaN                    NaN                     NaN   \n",
      "92                      NaN                    NaN                     NaN   \n",
      "..                      ...                    ...                     ...   \n",
      "70                      NaN               0.125000                     NaN   \n",
      "53                      NaN               0.500000                     NaN   \n",
      "104                     NaN               0.022222                     NaN   \n",
      "543                     NaN               0.062500                     NaN   \n",
      "23                      NaN               0.009091                     NaN   \n",
      "\n",
      "     nhopi_stops_proportion  hisp_stops_proportion  other_stops_proportion  \n",
      "155                     NaN                    NaN                     NaN  \n",
      "516                     NaN               6.134078                     NaN  \n",
      "500                     NaN               0.017947                     NaN  \n",
      "432                     NaN                    NaN                     NaN  \n",
      "92                      NaN                    NaN                     NaN  \n",
      "..                      ...                    ...                     ...  \n",
      "70                      NaN                    NaN                     NaN  \n",
      "53                      NaN                    NaN                     NaN  \n",
      "104                     NaN                    NaN                     NaN  \n",
      "543                     NaN                    NaN                     NaN  \n",
      "23                      NaN                    NaN                     NaN  \n",
      "\n",
      "[721 rows x 20 columns]\n"
     ]
    }
   ],
   "source": [
    "# Display the results\n",
    "print(crime_stops_demographics_by_beat.sort_values(by='stops_to_crimes_ratio', ascending=False))"
   ]
  },
  {
   "cell_type": "code",
   "execution_count": 17,
   "metadata": {},
   "outputs": [
    {
     "data": {
      "text/html": [
       "<div>\n",
       "<style scoped>\n",
       "    .dataframe tbody tr th:only-of-type {\n",
       "        vertical-align: middle;\n",
       "    }\n",
       "\n",
       "    .dataframe tbody tr th {\n",
       "        vertical-align: top;\n",
       "    }\n",
       "\n",
       "    .dataframe thead th {\n",
       "        text-align: right;\n",
       "    }\n",
       "</style>\n",
       "<table border=\"1\" class=\"dataframe\">\n",
       "  <thead>\n",
       "    <tr style=\"text-align: right;\">\n",
       "      <th></th>\n",
       "      <th>beat</th>\n",
       "      <th>num_crimes</th>\n",
       "      <th>race</th>\n",
       "      <th>num_stops</th>\n",
       "      <th>total</th>\n",
       "      <th>white</th>\n",
       "      <th>black</th>\n",
       "      <th>aian</th>\n",
       "      <th>asian</th>\n",
       "      <th>nhopi</th>\n",
       "      <th>hisp</th>\n",
       "      <th>other</th>\n",
       "      <th>stops_to_crimes_ratio</th>\n",
       "      <th>white_stops_proportion</th>\n",
       "      <th>black_stops_proportion</th>\n",
       "      <th>aian_stops_proportion</th>\n",
       "      <th>asian_stops_proportion</th>\n",
       "      <th>nhopi_stops_proportion</th>\n",
       "      <th>hisp_stops_proportion</th>\n",
       "      <th>other_stops_proportion</th>\n",
       "    </tr>\n",
       "  </thead>\n",
       "  <tbody>\n",
       "    <tr>\n",
       "      <th>706</th>\n",
       "      <td>935.0</td>\n",
       "      <td>251</td>\n",
       "      <td>asian</td>\n",
       "      <td>81</td>\n",
       "      <td>9513</td>\n",
       "      <td>5535</td>\n",
       "      <td>25</td>\n",
       "      <td>6</td>\n",
       "      <td>2731</td>\n",
       "      <td>16</td>\n",
       "      <td>706</td>\n",
       "      <td>494</td>\n",
       "      <td>0.322709</td>\n",
       "      <td>NaN</td>\n",
       "      <td>NaN</td>\n",
       "      <td>NaN</td>\n",
       "      <td>0.029659</td>\n",
       "      <td>NaN</td>\n",
       "      <td>NaN</td>\n",
       "      <td>NaN</td>\n",
       "    </tr>\n",
       "    <tr>\n",
       "      <th>707</th>\n",
       "      <td>935.0</td>\n",
       "      <td>251</td>\n",
       "      <td>black</td>\n",
       "      <td>42</td>\n",
       "      <td>9513</td>\n",
       "      <td>5535</td>\n",
       "      <td>25</td>\n",
       "      <td>6</td>\n",
       "      <td>2731</td>\n",
       "      <td>16</td>\n",
       "      <td>706</td>\n",
       "      <td>494</td>\n",
       "      <td>0.167331</td>\n",
       "      <td>NaN</td>\n",
       "      <td>1.68</td>\n",
       "      <td>NaN</td>\n",
       "      <td>NaN</td>\n",
       "      <td>NaN</td>\n",
       "      <td>NaN</td>\n",
       "      <td>NaN</td>\n",
       "    </tr>\n",
       "    <tr>\n",
       "      <th>708</th>\n",
       "      <td>935.0</td>\n",
       "      <td>251</td>\n",
       "      <td>hisp</td>\n",
       "      <td>132</td>\n",
       "      <td>9513</td>\n",
       "      <td>5535</td>\n",
       "      <td>25</td>\n",
       "      <td>6</td>\n",
       "      <td>2731</td>\n",
       "      <td>16</td>\n",
       "      <td>706</td>\n",
       "      <td>494</td>\n",
       "      <td>0.525896</td>\n",
       "      <td>NaN</td>\n",
       "      <td>NaN</td>\n",
       "      <td>NaN</td>\n",
       "      <td>NaN</td>\n",
       "      <td>NaN</td>\n",
       "      <td>0.186969</td>\n",
       "      <td>NaN</td>\n",
       "    </tr>\n",
       "    <tr>\n",
       "      <th>709</th>\n",
       "      <td>935.0</td>\n",
       "      <td>251</td>\n",
       "      <td>nhopi</td>\n",
       "      <td>4</td>\n",
       "      <td>9513</td>\n",
       "      <td>5535</td>\n",
       "      <td>25</td>\n",
       "      <td>6</td>\n",
       "      <td>2731</td>\n",
       "      <td>16</td>\n",
       "      <td>706</td>\n",
       "      <td>494</td>\n",
       "      <td>0.015936</td>\n",
       "      <td>NaN</td>\n",
       "      <td>NaN</td>\n",
       "      <td>NaN</td>\n",
       "      <td>NaN</td>\n",
       "      <td>0.25</td>\n",
       "      <td>NaN</td>\n",
       "      <td>NaN</td>\n",
       "    </tr>\n",
       "    <tr>\n",
       "      <th>710</th>\n",
       "      <td>935.0</td>\n",
       "      <td>251</td>\n",
       "      <td>white</td>\n",
       "      <td>432</td>\n",
       "      <td>9513</td>\n",
       "      <td>5535</td>\n",
       "      <td>25</td>\n",
       "      <td>6</td>\n",
       "      <td>2731</td>\n",
       "      <td>16</td>\n",
       "      <td>706</td>\n",
       "      <td>494</td>\n",
       "      <td>1.721116</td>\n",
       "      <td>0.078049</td>\n",
       "      <td>NaN</td>\n",
       "      <td>NaN</td>\n",
       "      <td>NaN</td>\n",
       "      <td>NaN</td>\n",
       "      <td>NaN</td>\n",
       "      <td>NaN</td>\n",
       "    </tr>\n",
       "  </tbody>\n",
       "</table>\n",
       "</div>"
      ],
      "text/plain": [
       "      beat  num_crimes   race  num_stops  total  white  black  aian  asian  \\\n",
       "706  935.0         251  asian         81   9513   5535     25     6   2731   \n",
       "707  935.0         251  black         42   9513   5535     25     6   2731   \n",
       "708  935.0         251   hisp        132   9513   5535     25     6   2731   \n",
       "709  935.0         251  nhopi          4   9513   5535     25     6   2731   \n",
       "710  935.0         251  white        432   9513   5535     25     6   2731   \n",
       "\n",
       "     nhopi  hisp  other  stops_to_crimes_ratio  white_stops_proportion  \\\n",
       "706     16   706    494               0.322709                     NaN   \n",
       "707     16   706    494               0.167331                     NaN   \n",
       "708     16   706    494               0.525896                     NaN   \n",
       "709     16   706    494               0.015936                     NaN   \n",
       "710     16   706    494               1.721116                0.078049   \n",
       "\n",
       "     black_stops_proportion  aian_stops_proportion  asian_stops_proportion  \\\n",
       "706                     NaN                    NaN                0.029659   \n",
       "707                    1.68                    NaN                     NaN   \n",
       "708                     NaN                    NaN                     NaN   \n",
       "709                     NaN                    NaN                     NaN   \n",
       "710                     NaN                    NaN                     NaN   \n",
       "\n",
       "     nhopi_stops_proportion  hisp_stops_proportion  other_stops_proportion  \n",
       "706                     NaN                    NaN                     NaN  \n",
       "707                     NaN                    NaN                     NaN  \n",
       "708                     NaN               0.186969                     NaN  \n",
       "709                    0.25                    NaN                     NaN  \n",
       "710                     NaN                    NaN                     NaN  "
      ]
     },
     "execution_count": 17,
     "metadata": {},
     "output_type": "execute_result"
    }
   ],
   "source": [
    "# print the data for beat 316\n",
    "crime_stops_demographics_by_beat[crime_stops_demographics_by_beat['beat'] == 935]"
   ]
  },
  {
   "attachments": {},
   "cell_type": "markdown",
   "metadata": {},
   "source": [
    "### Simple Analysis"
   ]
  },
  {
   "cell_type": "code",
   "execution_count": 35,
   "metadata": {},
   "outputs": [],
   "source": [
    "# group num_stops by beat and num_crimes and drop the race column only keep beat, num_crimes, and num_stops\n",
    "model1_data = crime_stops_by_beat.groupby(['beat', 'num_crimes']).sum().reset_index()"
   ]
  },
  {
   "attachments": {},
   "cell_type": "markdown",
   "metadata": {},
   "source": [
    "Regression with the number of stops as the dependent variable and the number of crimes as the independent variable:\n"
   ]
  },
  {
   "cell_type": "code",
   "execution_count": 39,
   "metadata": {},
   "outputs": [
    {
     "name": "stdout",
     "output_type": "stream",
     "text": [
      "                            OLS Regression Results                            \n",
      "==============================================================================\n",
      "Dep. Variable:              num_stops   R-squared:                       0.740\n",
      "Model:                            OLS   Adj. R-squared:                  0.737\n",
      "Method:                 Least Squares   F-statistic:                     349.3\n",
      "Date:                Wed, 29 Mar 2023   Prob (F-statistic):           9.64e-38\n",
      "Time:                        02:52:03   Log-Likelihood:                -1135.5\n",
      "No. Observations:                 125   AIC:                             2275.\n",
      "Df Residuals:                     123   BIC:                             2281.\n",
      "Df Model:                           1                                         \n",
      "Covariance Type:            nonrobust                                         \n",
      "==============================================================================\n",
      "                 coef    std err          t      P>|t|      [0.025      0.975]\n",
      "------------------------------------------------------------------------------\n",
      "Intercept   -408.2078    274.739     -1.486      0.140    -952.036     135.620\n",
      "num_crimes     3.1810      0.170     18.690      0.000       2.844       3.518\n",
      "==============================================================================\n",
      "Omnibus:                       46.085   Durbin-Watson:                   1.686\n",
      "Prob(Omnibus):                  0.000   Jarque-Bera (JB):              333.491\n",
      "Skew:                           0.985   Prob(JB):                     3.83e-73\n",
      "Kurtosis:                      10.756   Cond. No.                     2.31e+03\n",
      "==============================================================================\n",
      "\n",
      "Notes:\n",
      "[1] Standard Errors assume that the covariance matrix of the errors is correctly specified.\n",
      "[2] The condition number is large, 2.31e+03. This might indicate that there are\n",
      "strong multicollinearity or other numerical problems.\n"
     ]
    }
   ],
   "source": [
    "model1_linear = smf.ols(formula='num_stops ~ num_crimes', data=model1_data).fit()\n",
    "print(model1.summary())"
   ]
  },
  {
   "cell_type": "code",
   "execution_count": 34,
   "metadata": {},
   "outputs": [
    {
     "name": "stdout",
     "output_type": "stream",
     "text": [
      "Optimization terminated successfully.\n",
      "         Current function value: 480.601175\n",
      "         Iterations 9\n",
      "                          Poisson Regression Results                          \n",
      "==============================================================================\n",
      "Dep. Variable:              num_stops   No. Observations:                  125\n",
      "Model:                        Poisson   Df Residuals:                      123\n",
      "Method:                           MLE   Df Model:                            1\n",
      "Date:                Wed, 29 Mar 2023   Pseudo R-squ.:                  0.7184\n",
      "Time:                        02:45:10   Log-Likelihood:                -60075.\n",
      "converged:                       True   LL-Null:                   -2.1337e+05\n",
      "Covariance Type:            nonrobust   LLR p-value:                     0.000\n",
      "==============================================================================\n",
      "                 coef    std err          z      P>|z|      [0.025      0.975]\n",
      "------------------------------------------------------------------------------\n",
      "Intercept      7.2392      0.002   2926.522      0.000       7.234       7.244\n",
      "num_crimes     0.0005   7.98e-07    640.643      0.000       0.001       0.001\n",
      "==============================================================================\n"
     ]
    }
   ],
   "source": [
    "model1 = smf.poisson(\"num_stops ~ num_crimes\", data=model1_data).fit()\n",
    "print(model1.summary())"
   ]
  },
  {
   "attachments": {},
   "cell_type": "markdown",
   "metadata": {},
   "source": [
    "Regression including demographic variables"
   ]
  },
  {
   "cell_type": "code",
   "execution_count": 41,
   "metadata": {},
   "outputs": [],
   "source": [
    "# group by crime_stops_demographics_by_beat by beat\tnum_crimes\tnum_stops\ttotal\twhite\tblack\taian\tasian\tnhopi\thisp\tother\n",
    "model2_data = crime_stops_demographics_by_beat.groupby(['beat', 'num_crimes', 'num_stops', 'total', 'white', 'black', 'aian', 'asian', 'nhopi', 'hisp', 'other']).sum().reset_index()"
   ]
  },
  {
   "cell_type": "code",
   "execution_count": 48,
   "metadata": {},
   "outputs": [
    {
     "name": "stdout",
     "output_type": "stream",
     "text": [
      "Optimization terminated successfully.\n",
      "         Current function value: 409.693855\n",
      "         Iterations 76\n",
      "                          Poisson Regression Results                          \n",
      "==============================================================================\n",
      "Dep. Variable:              num_stops   No. Observations:                  717\n",
      "Model:                        Poisson   Df Residuals:                      709\n",
      "Method:                           MLE   Df Model:                            7\n",
      "Date:                Wed, 29 Mar 2023   Pseudo R-squ.:                  0.3462\n",
      "Time:                        02:57:38   Log-Likelihood:            -2.9375e+05\n",
      "converged:                       True   LL-Null:                   -4.4932e+05\n",
      "Covariance Type:            nonrobust   LLR p-value:                     0.000\n",
      "==============================================================================\n",
      "                 coef    std err          z      P>|z|      [0.025      0.975]\n",
      "------------------------------------------------------------------------------\n",
      "Intercept      5.4334      0.003   1829.385      0.000       5.428       5.439\n",
      "num_crimes     0.0006   1.05e-06    540.788      0.000       0.001       0.001\n",
      "white      -5.645e-06   6.04e-07     -9.344      0.000   -6.83e-06   -4.46e-06\n",
      "black       4.989e-05   2.41e-06     20.679      0.000    4.52e-05    5.46e-05\n",
      "hisp        1.367e-05   3.11e-07     43.914      0.000    1.31e-05    1.43e-05\n",
      "aian          -0.0016   5.25e-05    -30.325      0.000      -0.002      -0.001\n",
      "asian       2.419e-05   1.11e-06     21.715      0.000     2.2e-05    2.64e-05\n",
      "other         -0.0003   1.14e-05    -24.661      0.000      -0.000      -0.000\n",
      "==============================================================================\n"
     ]
    }
   ],
   "source": [
    "model2 = smf.poisson(\"num_stops ~ num_crimes + white + black + hisp + aian +asian + hisp+ other\", data=model2_data).fit(maxiter=1000)\n",
    "print(model2.summary())\n"
   ]
  },
  {
   "cell_type": "code",
   "execution_count": 43,
   "metadata": {},
   "outputs": [
    {
     "name": "stdout",
     "output_type": "stream",
     "text": [
      "                            OLS Regression Results                            \n",
      "==============================================================================\n",
      "Dep. Variable:              num_stops   R-squared:                       0.249\n",
      "Model:                            OLS   Adj. R-squared:                  0.242\n",
      "Method:                 Least Squares   F-statistic:                     33.58\n",
      "Date:                Wed, 29 Mar 2023   Prob (F-statistic):           1.88e-40\n",
      "Time:                        02:55:09   Log-Likelihood:                -6032.9\n",
      "No. Observations:                 717   AIC:                         1.208e+04\n",
      "Df Residuals:                     709   BIC:                         1.212e+04\n",
      "Df Model:                           7                                         \n",
      "Covariance Type:            nonrobust                                         \n",
      "==============================================================================\n",
      "                 coef    std err          t      P>|t|      [0.025      0.975]\n",
      "------------------------------------------------------------------------------\n",
      "Intercept    -10.5564     67.201     -0.157      0.875    -142.492     121.380\n",
      "num_crimes     0.6360      0.048     13.348      0.000       0.542       0.730\n",
      "white         -0.0267      0.019     -1.443      0.150      -0.063       0.010\n",
      "black         -0.0335      0.067     -0.498      0.619      -0.166       0.099\n",
      "hisp          -0.0063      0.012     -0.502      0.616      -0.031       0.018\n",
      "aian          -0.7669      1.386     -0.553      0.580      -3.487       1.954\n",
      "asian         -0.0229      0.029     -0.781      0.435      -0.081       0.035\n",
      "other          0.1069      0.290      0.368      0.713      -0.463       0.677\n",
      "==============================================================================\n",
      "Omnibus:                      768.038   Durbin-Watson:                   1.539\n",
      "Prob(Omnibus):                  0.000   Jarque-Bera (JB):            71823.155\n",
      "Skew:                           4.832   Prob(JB):                         0.00\n",
      "Kurtosis:                      51.070   Cond. No.                     1.52e+04\n",
      "==============================================================================\n",
      "\n",
      "Notes:\n",
      "[1] Standard Errors assume that the covariance matrix of the errors is correctly specified.\n",
      "[2] The condition number is large, 1.52e+04. This might indicate that there are\n",
      "strong multicollinearity or other numerical problems.\n"
     ]
    }
   ],
   "source": [
    "model2_linear = smf.ols(formula='num_stops ~ num_crimes + white + black + hisp + aian +asian + hisp+ other', data=model2_data).fit()\n",
    "print(model2_linear.summary())"
   ]
  },
  {
   "attachments": {},
   "cell_type": "markdown",
   "metadata": {},
   "source": [
    "Regression with interaction terms to explore the relationship between stops, crimes, and racial composition"
   ]
  },
  {
   "cell_type": "code",
   "execution_count": 53,
   "metadata": {},
   "outputs": [],
   "source": [
    "model3_data = model2_data.copy()\n",
    "model3_data['num_crimes_scaled'] = np.log1p(model3_data['num_crimes'])\n",
    "model3_data['white_ratio'] = model3_data['white'] / model3_data['total']\n",
    "model3_data['black_ratio'] = model3_data['black'] / model3_data['total']\n",
    "model3_data['hisp_ratio'] = model3_data['hisp'] / model3_data['total']"
   ]
  },
  {
   "cell_type": "code",
   "execution_count": 54,
   "metadata": {},
   "outputs": [
    {
     "name": "stdout",
     "output_type": "stream",
     "text": [
      "Optimization terminated successfully.\n",
      "         Current function value: 392.842705\n",
      "         Iterations 7\n",
      "                          Poisson Regression Results                          \n",
      "==============================================================================\n",
      "Dep. Variable:              num_stops   No. Observations:                  717\n",
      "Model:                        Poisson   Df Residuals:                      709\n",
      "Method:                           MLE   Df Model:                            7\n",
      "Date:                Wed, 29 Mar 2023   Pseudo R-squ.:                  0.3731\n",
      "Time:                        03:04:11   Log-Likelihood:            -2.8167e+05\n",
      "converged:                       True   LL-Null:                   -4.4932e+05\n",
      "Covariance Type:            nonrobust   LLR p-value:                     0.000\n",
      "=================================================================================================\n",
      "                                    coef    std err          z      P>|z|      [0.025      0.975]\n",
      "-------------------------------------------------------------------------------------------------\n",
      "Intercept                         4.2267      0.126     33.650      0.000       3.981       4.473\n",
      "num_crimes_scaled                 0.1913      0.017     11.359      0.000       0.158       0.224\n",
      "white_ratio                      -6.7048      0.153    -43.824      0.000      -7.005      -6.405\n",
      "num_crimes_scaled:white_ratio     1.0358      0.020     50.701      0.000       0.996       1.076\n",
      "black_ratio                     -21.0961      0.303    -69.611      0.000     -21.690     -20.502\n",
      "num_crimes_scaled:black_ratio     3.1819      0.041     77.007      0.000       3.101       3.263\n",
      "hisp_ratio                       -3.1529      0.140    -22.448      0.000      -3.428      -2.878\n",
      "num_crimes_scaled:hisp_ratio      0.5867      0.019     31.191      0.000       0.550       0.624\n",
      "=================================================================================================\n"
     ]
    }
   ],
   "source": [
    "model3 = smf.poisson(\"num_stops ~ num_crimes_scaled * white_ratio + num_crimes_scaled * black_ratio + num_crimes_scaled * hisp_ratio\", data=model3_data).fit()\n",
    "print(model3.summary())"
   ]
  },
  {
   "cell_type": "code",
   "execution_count": 55,
   "metadata": {},
   "outputs": [
    {
     "name": "stdout",
     "output_type": "stream",
     "text": [
      "                            OLS Regression Results                            \n",
      "==============================================================================\n",
      "Dep. Variable:              num_stops   R-squared:                       0.141\n",
      "Model:                            OLS   Adj. R-squared:                  0.132\n",
      "Method:                 Least Squares   F-statistic:                     16.60\n",
      "Date:                Wed, 29 Mar 2023   Prob (F-statistic):           2.40e-20\n",
      "Time:                        03:04:41   Log-Likelihood:                -6081.1\n",
      "No. Observations:                 717   AIC:                         1.218e+04\n",
      "Df Residuals:                     709   BIC:                         1.221e+04\n",
      "Df Model:                           7                                         \n",
      "Covariance Type:            nonrobust                                         \n",
      "=================================================================================================\n",
      "                                    coef    std err          t      P>|t|      [0.025      0.975]\n",
      "-------------------------------------------------------------------------------------------------\n",
      "Intercept                      1729.7676   1892.106      0.914      0.361   -1985.034    5444.569\n",
      "num_crimes_scaled              -264.3441    283.975     -0.931      0.352    -821.877     293.188\n",
      "white_ratio                   -5817.4881   2383.816     -2.440      0.015   -1.05e+04   -1137.305\n",
      "num_crimes_scaled:white_ratio   980.1374    355.866      2.754      0.006     281.461    1678.814\n",
      "black_ratio                   -8445.9132   5524.339     -1.529      0.127   -1.93e+04    2400.107\n",
      "num_crimes_scaled:black_ratio  1396.6917    848.248      1.647      0.100    -268.687    3062.071\n",
      "hisp_ratio                    -3015.2003   2140.945     -1.408      0.159   -7218.552    1188.151\n",
      "num_crimes_scaled:hisp_ratio    549.4242    323.296      1.699      0.090     -85.308    1184.157\n",
      "==============================================================================\n",
      "Omnibus:                      872.383   Durbin-Watson:                   1.446\n",
      "Prob(Omnibus):                  0.000   Jarque-Bera (JB):           101184.939\n",
      "Skew:                           6.000   Prob(JB):                         0.00\n",
      "Kurtosis:                      59.947   Cond. No.                     1.06e+03\n",
      "==============================================================================\n",
      "\n",
      "Notes:\n",
      "[1] Standard Errors assume that the covariance matrix of the errors is correctly specified.\n",
      "[2] The condition number is large, 1.06e+03. This might indicate that there are\n",
      "strong multicollinearity or other numerical problems.\n"
     ]
    }
   ],
   "source": [
    "model3_linear = smf.ols(formula='num_stops ~ num_crimes_scaled * white_ratio + num_crimes_scaled * black_ratio + num_crimes_scaled * hisp_ratio', data=model3_data).fit()\n",
    "print(model3_linear.summary())"
   ]
  },
  {
   "attachments": {},
   "cell_type": "markdown",
   "metadata": {},
   "source": [
    "Regression Result Summary"
   ]
  },
  {
   "cell_type": "code",
   "execution_count": 58,
   "metadata": {},
   "outputs": [
    {
     "data": {
      "text/html": [
       "Regression Results<br><table style=\"text-align:center\"><tr><td colspan=\"7\" style=\"border-bottom: 1px solid black\"></td></tr><tr><td style=\"text-align:left\"></td><td colspan=\"6\"><em>Dependent variable:num_stops</em></td></tr><tr><td style=\"text-align:left\"></td><tr><td></td><td colspan=\"1\">Poisson 1</td><td colspan=\"1\">Linear 1</td><td colspan=\"1\">Poisson 2</td><td colspan=\"1\">Linear 2</td><td colspan=\"1\">Poisson 3</td><td colspan=\"1\">Linear 3</td></tr><tr><td style=\"text-align:left\"></td><td>(1)</td><td>(2)</td><td>(3)</td><td>(4)</td><td>(5)</td><td>(6)</td></tr><tr><td colspan=\"7\" style=\"border-bottom: 1px solid black\"></td></tr><tr><td style=\"text-align:left\">Intercept</td><td>-408.208<sup></sup></td><td>-408.208<sup></sup></td><td>5.433<sup>***</sup></td><td>-10.556<sup></sup></td><td>4.227<sup>***</sup></td><td>1729.768<sup></sup></td></tr><tr><td style=\"text-align:left\"></td><td>(274.739)</td><td>(274.739)</td><td>(0.003)</td><td>(67.201)</td><td>(0.126)</td><td>(1892.106)</td></tr><tr><td style=\"text-align:left\">aian</td><td></td><td></td><td>-0.002<sup>***</sup></td><td>-0.767<sup></sup></td><td></td><td></td></tr><tr><td style=\"text-align:left\"></td><td></td><td></td><td>(0.000)</td><td>(1.386)</td><td></td><td></td></tr><tr><td style=\"text-align:left\">asian</td><td></td><td></td><td>0.000<sup>***</sup></td><td>-0.023<sup></sup></td><td></td><td></td></tr><tr><td style=\"text-align:left\"></td><td></td><td></td><td>(0.000)</td><td>(0.029)</td><td></td><td></td></tr><tr><td style=\"text-align:left\">black</td><td></td><td></td><td>0.000<sup>***</sup></td><td>-0.034<sup></sup></td><td></td><td></td></tr><tr><td style=\"text-align:left\"></td><td></td><td></td><td>(0.000)</td><td>(0.067)</td><td></td><td></td></tr><tr><td style=\"text-align:left\">black_ratio</td><td></td><td></td><td></td><td></td><td>-21.096<sup>***</sup></td><td>-8445.913<sup></sup></td></tr><tr><td style=\"text-align:left\"></td><td></td><td></td><td></td><td></td><td>(0.303)</td><td>(5524.339)</td></tr><tr><td style=\"text-align:left\">hisp</td><td></td><td></td><td>0.000<sup>***</sup></td><td>-0.006<sup></sup></td><td></td><td></td></tr><tr><td style=\"text-align:left\"></td><td></td><td></td><td>(0.000)</td><td>(0.012)</td><td></td><td></td></tr><tr><td style=\"text-align:left\">hisp_ratio</td><td></td><td></td><td></td><td></td><td>-3.153<sup>***</sup></td><td>-3015.200<sup></sup></td></tr><tr><td style=\"text-align:left\"></td><td></td><td></td><td></td><td></td><td>(0.140)</td><td>(2140.945)</td></tr><tr><td style=\"text-align:left\">num_crimes</td><td>3.181<sup>***</sup></td><td>3.181<sup>***</sup></td><td>0.001<sup>***</sup></td><td>0.636<sup>***</sup></td><td></td><td></td></tr><tr><td style=\"text-align:left\"></td><td>(0.170)</td><td>(0.170)</td><td>(0.000)</td><td>(0.048)</td><td></td><td></td></tr><tr><td style=\"text-align:left\">num_crimes_scaled</td><td></td><td></td><td></td><td></td><td>0.191<sup>***</sup></td><td>-264.344<sup></sup></td></tr><tr><td style=\"text-align:left\"></td><td></td><td></td><td></td><td></td><td>(0.017)</td><td>(283.975)</td></tr><tr><td style=\"text-align:left\">num_crimes_scaled:black_ratio</td><td></td><td></td><td></td><td></td><td>3.182<sup>***</sup></td><td>1396.692<sup></sup></td></tr><tr><td style=\"text-align:left\"></td><td></td><td></td><td></td><td></td><td>(0.041)</td><td>(848.248)</td></tr><tr><td style=\"text-align:left\">num_crimes_scaled:hisp_ratio</td><td></td><td></td><td></td><td></td><td>0.587<sup>***</sup></td><td>549.424<sup>*</sup></td></tr><tr><td style=\"text-align:left\"></td><td></td><td></td><td></td><td></td><td>(0.019)</td><td>(323.296)</td></tr><tr><td style=\"text-align:left\">num_crimes_scaled:white_ratio</td><td></td><td></td><td></td><td></td><td>1.036<sup>***</sup></td><td>980.137<sup>***</sup></td></tr><tr><td style=\"text-align:left\"></td><td></td><td></td><td></td><td></td><td>(0.020)</td><td>(355.866)</td></tr><tr><td style=\"text-align:left\">other</td><td></td><td></td><td>-0.000<sup>***</sup></td><td>0.107<sup></sup></td><td></td><td></td></tr><tr><td style=\"text-align:left\"></td><td></td><td></td><td>(0.000)</td><td>(0.290)</td><td></td><td></td></tr><tr><td style=\"text-align:left\">white</td><td></td><td></td><td>-0.000<sup>***</sup></td><td>-0.027<sup></sup></td><td></td><td></td></tr><tr><td style=\"text-align:left\"></td><td></td><td></td><td>(0.000)</td><td>(0.019)</td><td></td><td></td></tr><tr><td style=\"text-align:left\">white_ratio</td><td></td><td></td><td></td><td></td><td>-6.705<sup>***</sup></td><td>-5817.488<sup>**</sup></td></tr><tr><td style=\"text-align:left\"></td><td></td><td></td><td></td><td></td><td>(0.153)</td><td>(2383.816)</td></tr><td colspan=\"7\" style=\"border-bottom: 1px solid black\"></td></tr><tr><td style=\"text-align: left\">Observations</td><td>125</td><td>125</td><td>717</td><td>717</td><td>717</td><td>717</td></tr><tr><td style=\"text-align: left\">R<sup>2</sup></td><td>0.740</td><td>0.740</td><td></td><td>0.249</td><td></td><td>0.141</td></tr><tr><td style=\"text-align: left\">Adjusted R<sup>2</sup></td><td>0.737</td><td>0.737</td><td></td><td>0.242</td><td></td><td>0.132</td></tr><tr><td style=\"text-align: left\">Residual Std. Error</td><td>2149.143 (df=123)</td><td>2149.143 (df=123)</td><td>1.000 (df=709)</td><td>1097.402 (df=709)</td><td>1.000 (df=709)</td><td>1173.766 (df=709)</td></tr><tr><td style=\"text-align: left\">F Statistic</td><td>349.320<sup>***</sup> (df=1; 123)</td><td>349.320<sup>***</sup> (df=1; 123)</td><td><sup></sup> (df=7; 709)</td><td>33.579<sup>***</sup> (df=7; 709)</td><td><sup></sup> (df=7; 709)</td><td>16.601<sup>***</sup> (df=7; 709)</td></tr><tr><td colspan=\"7\" style=\"border-bottom: 1px solid black\"></td></tr><tr><td style=\"text-align: left\">Note:</td>\n",
       " <td colspan=\"6\" style=\"text-align: right\">\n",
       "  <sup>*</sup>p&lt;0.1;\n",
       "  <sup>**</sup>p&lt;0.05;\n",
       "  <sup>***</sup>p&lt;0.01\n",
       " </td></tr></table>"
      ],
      "text/plain": [
       "<IPython.core.display.HTML object>"
      ]
     },
     "execution_count": 58,
     "metadata": {},
     "output_type": "execute_result"
    }
   ],
   "source": [
    "stargazer = Stargazer([model1, model1_linear, model2, model2_linear, model3, model3_linear])\n",
    "stargazer.title(\"Regression Results\")\n",
    "stargazer.custom_columns(['Poisson 1', 'Linear 1', 'Poisson 2', 'Linear 2', 'Poisson 3', 'Linear 3'], [1, 1, 1, 1, 1, 1])\n",
    "\n",
    "from IPython.core.display import HTML\n",
    "HTML(stargazer.render_html())"
   ]
  },
  {
   "attachments": {},
   "cell_type": "markdown",
   "metadata": {},
   "source": [
    "## Visualize the data"
   ]
  },
  {
   "cell_type": "code",
   "execution_count": 18,
   "metadata": {},
   "outputs": [],
   "source": [
    "# Read the shapefile\n",
    "shapefile_path = 'pd_beats_datasd/pd_beats_datasd.shp'\n",
    "beat_geodata = gpd.read_file(shapefile_path)"
   ]
  },
  {
   "cell_type": "code",
   "execution_count": 19,
   "metadata": {},
   "outputs": [],
   "source": [
    "# Convert beat column to numeric\n",
    "beat_geodata['beat'] = pd.to_numeric(beat_geodata['beat'])"
   ]
  },
  {
   "cell_type": "code",
   "execution_count": 20,
   "metadata": {},
   "outputs": [],
   "source": [
    "# Aggregate the stop data by beat (replace 'count' with the column of interest)\n",
    "aggregated_stops = stops_data.groupby(['beat']).size().reset_index(name='count')\n",
    "\n",
    "# Merge the geodata with the aggregated stop data\n",
    "merged_geodata = beat_geodata.merge(aggregated_stops, on='beat')"
   ]
  },
  {
   "cell_type": "code",
   "execution_count": 21,
   "metadata": {},
   "outputs": [
    {
     "name": "stderr",
     "output_type": "stream",
     "text": [
      "c:\\Users\\Ahmad\\anaconda3\\envs\\green\\lib\\site-packages\\geopandas\\plotting.py:51: ShapelyDeprecationWarning: The 'type' attribute is deprecated, and will be removed in the future. You can use the 'geom_type' attribute instead.\n",
      "  if geom is not None and geom.type.startswith(prefix) and not geom.is_empty:\n"
     ]
    },
    {
     "data": {
      "image/png": "[encoded data removed]",
      "text/plain": [
       "<Figure size 720x720 with 2 Axes>"
      ]
     },
     "metadata": {
      "needs_background": "light"
     },
     "output_type": "display_data"
    }
   ],
   "source": [
    "# Plot the choropleth map\n",
    "fig, ax = plt.subplots(1, 1, figsize=(10, 10))\n",
    "merged_geodata.plot(column='count', cmap='coolwarm', legend=True, ax=ax)\n",
    "ax.set_title('Stop Data by Beat')\n",
    "ax.set_axis_off()\n",
    "plt.show()"
   ]
  },
  {
   "attachments": {},
   "cell_type": "markdown",
   "metadata": {},
   "source": [
    "## TODO: EDA\n",
    "Descriptive Statistics:\n",
    "- Calculate summary statistics (mean, median, mode, standard deviation) for the number of stops and crimes by beat.\n",
    "- Analyze the distribution of stops and crimes by race and beat.\n",
    "- Investigate the temporal trends of stops and crimes (daily, weekly, monthly, or yearly).\n",
    "\n",
    "Visualizations\n",
    "- Create bar plots or pie charts to show the distribution of stops and crimes by race.\n",
    "- Generate line plots or bar plots to visualize the trends of stops and crimes over time (by beat or overall).\n",
    "- Use heatmaps to display the correlation between stops and crimes by beat or by race.\n",
    "- Plot a time series of stops and crimes to identify any patterns or seasonality.\n",
    "- Create box plots or violin plots to visualize the distribution of stops and crimes by beat or race."
   ]
  },
  {
   "attachments": {},
   "cell_type": "markdown",
   "metadata": {},
   "source": [
    "### Data Profiling"
   ]
  },
  {
   "cell_type": "code",
   "execution_count": 22,
   "metadata": {},
   "outputs": [
    {
     "data": {
      "application/vnd.jupyter.widget-view+json": {
       "model_id": "79b799d5002f4703aa98eeacdd68c267",
       "version_major": 2,
       "version_minor": 0
      },
      "text/plain": [
       "Summarize dataset:   0%|          | 0/5 [00:00<?, ?it/s]"
      ]
     },
     "metadata": {},
     "output_type": "display_data"
    },
    {
     "name": "stderr",
     "output_type": "stream",
     "text": [
      "c:\\Users\\Ahmad\\anaconda3\\envs\\green\\lib\\site-packages\\scipy\\stats\\stats.py:4812: RuntimeWarning: overflow encountered in longlong_scalars\n",
      "  (2 * xtie * ytie) / m + x0 * y0 / (9 * m * (size - 2)))\n",
      "c:\\Users\\Ahmad\\anaconda3\\envs\\green\\lib\\site-packages\\scipy\\stats\\stats.py:4814: RuntimeWarning: invalid value encountered in sqrt\n",
      "  np.sqrt(var) / np.sqrt(2)))\n",
      "c:\\Users\\Ahmad\\anaconda3\\envs\\green\\lib\\site-packages\\pandas_profiling\\model\\correlations.py:61: UserWarning: There was an attempt to calculate the cramers correlation, but this failed.\n",
      "To hide this warning, disable the calculation\n",
      "(using `df.profile_report(correlations={\"cramers\": {\"calculate\": False}})`\n",
      "If this is problematic for your use case, please report this as an issue:\n",
      "https://github.com/pandas-profiling/pandas-profiling/issues\n",
      "(include the error message: 'No data; `observed` has size 0.')\n",
      "  (include the error message: '{error}')\"\"\"\n"
     ]
    },
    {
     "data": {
      "application/vnd.jupyter.widget-view+json": {
       "model_id": "3a39bfd9353c471883bbe7ef664b7ef9",
       "version_major": 2,
       "version_minor": 0
      },
      "text/plain": [
       "Generate report structure:   0%|          | 0/1 [00:00<?, ?it/s]"
      ]
     },
     "metadata": {},
     "output_type": "display_data"
    },
    {
     "data": {
      "application/vnd.jupyter.widget-view+json": {
       "model_id": "a9e374ff80bc44d48a2b94edeb152f11",
       "version_major": 2,
       "version_minor": 0
      },
      "text/plain": [
       "Render HTML:   0%|          | 0/1 [00:00<?, ?it/s]"
      ]
     },
     "metadata": {},
     "output_type": "display_data"
    },
    {
     "data": {
      "application/vnd.jupyter.widget-view+json": {
       "model_id": "cafe56995f4049e78af76d8f9154c741",
       "version_major": 2,
       "version_minor": 0
      },
      "text/plain": [
       "Export report to file:   0%|          | 0/1 [00:00<?, ?it/s]"
      ]
     },
     "metadata": {},
     "output_type": "display_data"
    }
   ],
   "source": [
    "# use pandas profiling to generate a report of the stops data\n",
    "profile = ProfileReport(stops_data, title='Pandas Profiling Report', html={'style':{'full_width':True}})\n",
    "# save the report to html\n",
    "profile.to_file(\"stops_data_report.html\")"
   ]
  },
  {
   "cell_type": "code",
   "execution_count": 24,
   "metadata": {},
   "outputs": [
    {
     "data": {
      "application/vnd.jupyter.widget-view+json": {
       "model_id": "a8d7224cf6cb4d658d394f421aba4ff4",
       "version_major": 2,
       "version_minor": 0
      },
      "text/plain": [
       "Summarize dataset:   0%|          | 0/5 [00:00<?, ?it/s]"
      ]
     },
     "metadata": {},
     "output_type": "display_data"
    },
    {
     "data": {
      "application/vnd.jupyter.widget-view+json": {
       "model_id": "e27cac26e8784cb3b95bd8a8def58a2d",
       "version_major": 2,
       "version_minor": 0
      },
      "text/plain": [
       "Generate report structure:   0%|          | 0/1 [00:00<?, ?it/s]"
      ]
     },
     "metadata": {},
     "output_type": "display_data"
    },
    {
     "data": {
      "application/vnd.jupyter.widget-view+json": {
       "model_id": "5a64b54545be4b0aa4d9c9470a118975",
       "version_major": 2,
       "version_minor": 0
      },
      "text/plain": [
       "Render HTML:   0%|          | 0/1 [00:00<?, ?it/s]"
      ]
     },
     "metadata": {},
     "output_type": "display_data"
    },
    {
     "data": {
      "application/vnd.jupyter.widget-view+json": {
       "model_id": "b46a7d2e061344dda4bc16355c0e7916",
       "version_major": 2,
       "version_minor": 0
      },
      "text/plain": [
       "Export report to file:   0%|          | 0/1 [00:00<?, ?it/s]"
      ]
     },
     "metadata": {},
     "output_type": "display_data"
    }
   ],
   "source": [
    "# use pandas profiling to generate a report of the crime data\n",
    "profile = ProfileReport(crime_data, title='Pandas Profiling Report', html={'style':{'full_width':True}})\n",
    "# save the report to html\n",
    "profile.to_file(\"crime_data_report.html\")"
   ]
  },
  {
   "attachments": {},
   "cell_type": "markdown",
   "metadata": {},
   "source": [
    "# Data Set Summary"
   ]
  },
  {
   "attachments": {},
   "cell_type": "markdown",
   "metadata": {},
   "source": [
    "The data used in this project spans multiple years (2019-2021) and is derived from various sources.\n",
    "\n",
    "The primary datasets used in the analysis are the stop data files, which include information on stops conducted by SDPD for the years 2019, 2020, and 2021. These files provide comprehensive data on each stop, such as the location, demographics of the person stopped, reason for the stop, and other relevant details. The stop data is collected under the Racial and Identity Profiling Act of 2015 (RIPA), which requires nearly all California law enforcement agencies to submit demographic data on all detentions and searches. This data is publicly available and can be downloaded from the City of San Diego's data portal: https://data.sandiego.gov/datasets/police-ripa-stops/. By combining these files, a complete picture of police stops over the three years can be obtained.\n",
    "\n",
    "To gain insights into the spatial distribution of police stops, **shapefiles for SDPD beats** are used. These files contain the geographic boundaries of police beats, which are essential for visualizing and understanding the spatial patterns of stops and crimes in San Diego.\n",
    "\n",
    "Additionally, **population data** for each beat is incorporated into the analysis. This data is sourced from the U.S. Census Bureau's American Community Survey (ACS) for 2019, which provides demographic information, including the racial composition of residents within each beat. By including this data, potential racial biases in police stops can be identified and examined.\n",
    "\n",
    "Finally, a dataset containing all crimes reported to the SDPD between 2019 and 2021 is utilized. This data was obtained under the California Public Records Act (PRA) by the San Diego Union-Tribune and is essential for understanding the relationship between police stops and crime incidents in San Diego. By merging this dataset with the stop data and beat demographics, a comprehensive analysis of the spatial and demographic aspects of police stops can be conducted."
   ]
  },
  {
   "attachments": {},
   "cell_type": "markdown",
   "metadata": {},
   "source": [
    "**So far**, the project has focused on cleaning, preprocessing, and merging the datasets to facilitate the analysis. Additionally, some preliminary visualizations have been created to explore the spatial distribution of police stops and crime incidents across San Diego. Furthermore, several regression models have been suggested to investigate the relationship between police stops, crime incidents, and demographic variables, including both Poisson and linear regression models. These models will be used to provide a more in-depth understanding of the factors influencing police stops in San Diego and whether they align with the occurrence of crime incidents."
   ]
  },
  {
   "attachments": {},
   "cell_type": "markdown",
   "metadata": {},
   "source": [
    "### References\n",
    "Papers\n",
    "- https://www.ojp.gov/ncjrs/virtual-library/abstracts/impact-stops-and-searches-crime-and-community\n",
    "- https://onlinelibrary.wiley.com/doi/10.1111/1745-9133.12172\n",
    "- https://journals.plos.org/plosone/article?id=10.1371/journal.pone.0157223\n",
    "- https://onlinelibrary.wiley.com/doi/10.1002/cl2.1302\n",
    "\n",
    "Articles\n",
    "- https://www.vera.org/newsroom/study-reveals-stop-and-frisk-significantly-impacts-trust-in-new-york-city-police\n",
    "- https://gothamist.com/news/new-york-city-police-have-stopped-and-questioned-more-people-this-year-than-last-as-mayor-adams-cracks-down-on-crime\n",
    "\n",
    "\n"
   ]
  },
  {
   "cell_type": "markdown",
   "metadata": {},
   "source": []
  }
 ],
 "metadata": {
  "kernelspec": {
   "display_name": "green",
   "language": "python",
   "name": "python3"
  },
  "language_info": {
   "codemirror_mode": {
    "name": "ipython",
    "version": 3
   },
   "file_extension": ".py",
   "mimetype": "text/x-python",
   "name": "python",
   "nbconvert_exporter": "python",
   "pygments_lexer": "ipython3",
   "version": "3.7.0"
  },
  "orig_nbformat": 4
 },
 "nbformat": 4,
 "nbformat_minor": 2
}
